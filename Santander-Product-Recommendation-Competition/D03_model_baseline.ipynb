{
  "nbformat": 4,
  "nbformat_minor": 0,
  "metadata": {
    "colab": {
      "name": "D03_model_baseline.ipynb",
      "provenance": [],
      "collapsed_sections": [],
      "machine_shape": "hm",
      "authorship_tag": "ABX9TyOZF+aoYrOWJMdqjbxO4j5Q",
      "include_colab_link": true
    },
    "kernelspec": {
      "name": "python3",
      "display_name": "Python 3"
    }
  },
  "cells": [
    {
      "cell_type": "markdown",
      "metadata": {
        "id": "view-in-github",
        "colab_type": "text"
      },
      "source": [
        "<a href=\"https://colab.research.google.com/github/12jeong/Kaggle-beginner/blob/master/Santander-Product-Recommendation-Competition/D03_model_baseline.ipynb\" target=\"_parent\"><img src=\"https://colab.research.google.com/assets/colab-badge.svg\" alt=\"Open In Colab\"/></a>"
      ]
    },
    {
      "cell_type": "code",
      "metadata": {
        "id": "rPOv8jsS0QpE",
        "colab_type": "code",
        "colab": {}
      },
      "source": [
        "from tensorflow.python.client import device_lib\n",
        "import platform\n",
        "from google.colab import drive\n",
        "drive.mount('/content/drive/')"
      ],
      "execution_count": 0,
      "outputs": []
    },
    {
      "cell_type": "code",
      "metadata": {
        "id": "Nf7f3Iap0X3m",
        "colab_type": "code",
        "colab": {}
      },
      "source": [
        "import os\n",
        "import pandas as pd\n",
        "import numpy as np\n",
        "import matplotlib\n",
        "import matplotlib.pyplot as plt\n",
        "# For Jupyter Notebook\n",
        "%matplotlib inline\n",
        "import seaborn as sns\n",
        "import xgboost as xgb\n",
        "import pickle\n",
        "os.getcwd()\n",
        "os.chdir('/content/drive/My Drive/Colab Notebooks/Kaggle-beginner')"
      ],
      "execution_count": 0,
      "outputs": []
    },
    {
      "cell_type": "code",
      "metadata": {
        "id": "kYlb8pqe0h-u",
        "colab_type": "code",
        "colab": {}
      },
      "source": [
        "filename = \"feature_list.pickle\"\n",
        "with open(filename, 'rb') as f:\n",
        "    features = pickle.load(f)\n",
        "    prods = pickle.load(f) "
      ],
      "execution_count": 0,
      "outputs": []
    },
    {
      "cell_type": "code",
      "metadata": {
        "id": "MtJko_Nl2zrY",
        "colab_type": "code",
        "colab": {}
      },
      "source": [
        "df_trn = pd.read_csv('df_trn.csv') # 4GB"
      ],
      "execution_count": 0,
      "outputs": []
    },
    {
      "cell_type": "markdown",
      "metadata": {
        "id": "PYxhxRul1kMw",
        "colab_type": "text"
      },
      "source": [
        "### 3. baseline 모형 학습 \n",
        "- train_ver2.csv : 2015-01-28~2016-05-28  \n",
        "- test_ver2.csv : 2016-06-28\n",
        "- baseline 용 간소화된 모델을 위해 2016-01-28~2016-04-28 을 학습 데이터, 2016-05-28 을 검증 데이터로 사용"
      ]
    },
    {
      "cell_type": "code",
      "metadata": {
        "id": "O7BBeA381RCV",
        "colab_type": "code",
        "colab": {}
      },
      "source": [
        "# 데이터 분리\n",
        "use_dates = ['2016-01-28','2016-02-28','2016-03-28','2016-04-28','2016-05-28']\n",
        "trn = df_trn[df_trn['fecha_dato'].isin(use_dates)]\n",
        "tst = df_trn[df_trn['fecha_dato']=='2016-06-28']\n",
        "del df_trn"
      ],
      "execution_count": 0,
      "outputs": []
    },
    {
      "cell_type": "code",
      "metadata": {
        "id": "35giH_UD41hY",
        "colab_type": "code",
        "colab": {
          "base_uri": "https://localhost:8080/",
          "height": 161
        },
        "outputId": "52b2033b-4d5a-4af2-fc1a-3cf310e46d14"
      },
      "source": [
        "# 참고\n",
        "lst = ['dog','cat','bird','monkey']\n",
        "for x, y in enumerate(lst):\n",
        "    print(x)\n",
        "    print(y)"
      ],
      "execution_count": 92,
      "outputs": [
        {
          "output_type": "stream",
          "text": [
            "0\n",
            "dog\n",
            "1\n",
            "cat\n",
            "2\n",
            "bird\n",
            "3\n",
            "monkey\n"
          ],
          "name": "stdout"
        }
      ]
    },
    {
      "cell_type": "code",
      "metadata": {
        "id": "v-JAfF4-4woH",
        "colab_type": "code",
        "colab": {}
      },
      "source": [
        "# 신규 상품 구매 정보가 있는 데이터만 추출\n",
        "X = []\n",
        "Y = []\n",
        "for i,prod in enumerate(prods):\n",
        "    prev = prod+'_prev'\n",
        "    prX = trn[(trn[prod]==1) & (trn[prev]==0)]   # 이 방법 매우 좋은듯 \n",
        "    prY = np.zeros(prX.shape[0], dtype=np.int8) + i # 몇 번째 상품이 신규구매인지 표시 \n",
        "    X.append(prX)\n",
        "    Y.append(prY)\n",
        "XY = pd.concat(X) # 가로 쌓기\n",
        "Y = np.hstack(Y)  # 배열 옆으로 쌓기 ...? \n",
        "XY['y'] = Y"
      ],
      "execution_count": 0,
      "outputs": []
    },
    {
      "cell_type": "code",
      "metadata": {
        "id": "mSgp_nNgBpEw",
        "colab_type": "code",
        "colab": {
          "base_uri": "https://localhost:8080/",
          "height": 35
        },
        "outputId": "f3073ae6-6f74-4cef-e3bf-715e4f6c1ce6"
      },
      "source": [
        "Y # 24개의 class를 예측하는 문제"
      ],
      "execution_count": 91,
      "outputs": [
        {
          "output_type": "execute_result",
          "data": {
            "text/plain": [
              "array([ 0,  1,  2, ..., 23, 23, 23], dtype=int8)"
            ]
          },
          "metadata": {
            "tags": []
          },
          "execution_count": 91
        }
      ]
    },
    {
      "cell_type": "code",
      "metadata": {
        "id": "rf9QCSnN66wM",
        "colab_type": "code",
        "colab": {}
      },
      "source": [
        "# 데이터 분리\n",
        "vld_date = '2016-05-28'\n",
        "XY_trn = XY[XY['fecha_dato']!=vld_date]\n",
        "XY_vld = XY[XY['fecha_dato']==vld_date]"
      ],
      "execution_count": 0,
      "outputs": []
    },
    {
      "cell_type": "markdown",
      "metadata": {
        "id": "0hAnFma68PVT",
        "colab_type": "text"
      },
      "source": [
        "XGBoost\n",
        "- Gradient Tree Boosting with Regularization (variant of original GBM)\n",
        " = XGBoost (eXtreme Gradient Boosting)\n",
        " $$ \\hat{y_i} = \\sum_{k=1}^K f_k (x_i) , ~~f_k \\in \\mathcal{F} $$\n",
        " 이때 K는 트리의 수이고, 목적함수는 다음과 같음 (자세한 설명은 생략)\n",
        " $$ \\mbox{min} \\sum_{i=1}^n l (y_i, \\hat{y_i}) + \\sum_{k=1}^K \\Omega (f_k) $$\n",
        "\n",
        "- 모델 파라미터\n",
        "    - est : learning late\n",
        "    - gamma : Information Gain의 -r\n",
        "    - max_depth : 트리의 최대 깊이\n",
        "    - colsample_bytree : 변수 샘플링 비율\n",
        "    - colsample_bylevel : 트리 레벨 별 변수 샘플링 비율\n",
        "\n",
        "- (참고) 파이썬 사이킷런에서 제공하지 않음\n",
        "- 시간 투자 대비 효율을 생각했을 때 파라미터 튜닝 보다 피처 엔지니어링에 더 신경쓰는 것을 권장하는 의견이 있음\n"
      ]
    },
    {
      "cell_type": "code",
      "metadata": {
        "id": "RgIq-p6j7SiS",
        "colab_type": "code",
        "colab": {}
      },
      "source": [
        "# specify parameters via map\n",
        "param = {\n",
        "    'booster': 'gbtree',\n",
        "    'max_depth': 8,\n",
        "    'nthread': 4,\n",
        "    'num_class': len(prods),\n",
        "    'objective': 'multi:softprob',\n",
        "    'silent': 1,\n",
        "    'eval_metric': 'mlogloss',\n",
        "    'eta': 0.1,\n",
        "    'min_child_weight': 10,\n",
        "    'colsample_bytree': 0.8,\n",
        "    'colsample_bylevel': 0.9,\n",
        "    'seed': 2018,\n",
        "}\n",
        "\n",
        "# read in data\n",
        "X_trn = XY_trn.as_matrix(columns=features)\n",
        "Y_trn = XY_trn.as_matrix(columns=['y'])\n",
        "dtrn = xgb.DMatrix(X_trn, label=Y_trn, feature_names=features)\n",
        "\n",
        "X_vld = XY_vld.as_matrix(columns=features)\n",
        "Y_vld = XY_vld.as_matrix(columns=['y'])\n",
        "dvld = xgb.DMatrix(X_vld, label=Y_vld, feature_names=features)"
      ],
      "execution_count": 0,
      "outputs": []
    },
    {
      "cell_type": "markdown",
      "metadata": {
        "id": "QBFrFfcoHL5Y",
        "colab_type": "text"
      },
      "source": [
        "> **class xgboost.DMatrix**(data, label=None, weight=None, base_margin=None, missing=None, silent=False, feature_names=None, feature_types=None, nthread=None)\n",
        "무슨 역할인지 아직 못찾음. "
      ]
    },
    {
      "cell_type": "markdown",
      "metadata": {
        "id": "90GZF__3FJo-",
        "colab_type": "text"
      },
      "source": [
        "> **xgboost.train**(params, dtrain, num_boost_round=10, evals=(), obj=None, feval=None, maximize=False, early_stopping_rounds=None, evals_result=None, verbose_eval=True, xgb_model=None, callbacks=None)  \n",
        "params (dict) – Booster params.  \n",
        "dtrain (DMatrix) – Data to be trained.   \n",
        "num_boost_round (int) – Number of boosting iterations.  \n",
        "evals (list of pairs (DMatrix, string)) – List of validation sets for which metrics will evaluated during training. Validation metrics will help us track the performance of the model. Example: with a watchlist containing [(dtest,'eval'), (dtrain,'train')]"
      ]
    },
    {
      "cell_type": "code",
      "metadata": {
        "id": "oEscyPUFDiVW",
        "colab_type": "code",
        "colab": {}
      },
      "source": [
        "watch_list = [(dtrn,'train'),(dvld,'eval')] # evlas의 역할? 왜 validation matrix를 넣지?\n",
        "model = xgb.train(param, dtrn, num_boost_round=1000, evals=watch_list, early_stopping_rounds= 20) "
      ],
      "execution_count": 0,
      "outputs": []
    },
    {
      "cell_type": "code",
      "metadata": {
        "id": "5KK9rpjIEG01",
        "colab_type": "code",
        "colab": {}
      },
      "source": [
        "# 모델 저장\n",
        "# filename = 'xgb.baseline.pkl'\n",
        "# pickle.dump(model, open(filename,'wb'))\n",
        "best_ntree_limit = model.best_ntree_limit # ?"
      ],
      "execution_count": 0,
      "outputs": []
    },
    {
      "cell_type": "code",
      "metadata": {
        "id": "Y8PUuAamm0PA",
        "colab_type": "code",
        "colab": {
          "base_uri": "https://localhost:8080/",
          "height": 35
        },
        "outputId": "0e3f856f-ddb2-4cfb-a426-c497ae8e28d3"
      },
      "source": [
        "best_ntree_limit # iteration이 멈춘 시점?"
      ],
      "execution_count": 93,
      "outputs": [
        {
          "output_type": "execute_result",
          "data": {
            "text/plain": [
              "293"
            ]
          },
          "metadata": {
            "tags": []
          },
          "execution_count": 93
        }
      ]
    },
    {
      "cell_type": "code",
      "metadata": {
        "id": "Im4MJX2HHz8J",
        "colab_type": "code",
        "colab": {}
      },
      "source": [
        "## Cross validation - MAP@7 계산  (baseline model)\n",
        "vld = trn[trn['fecha_dato']==vld_date]\n",
        "ncodpers_vld = vld.as_matrix(columns=['ncodpers'])\n",
        "# 신규 구매 정갑값 추출\n",
        "for prod in prods:\n",
        "    prev = prod + '_prev'\n",
        "    padd = prod + '_add'\n",
        "    vld[padd] = vld[prod] - vld[prev] # 신규구매면 1\n",
        "add_vld = vld.as_matrix(columns=[prod+'_add' for prod in prods])\n",
        "add_vld_list = [list() for i in range(len(ncodpers_vld))]\n",
        "\n",
        "# add_vld_list: 고객 별 신규 구매 정답값\n",
        "count_vld = 0 \n",
        "for ncodpers in range(len(ncodpers_vld)):\n",
        "    for prod in range(len(prods)):\n",
        "        if add_vld[ncodpers, prod] >0:\n",
        "            add_vld_list[ncodpers].append(prod)\n",
        "            count_vld +=1 "
      ],
      "execution_count": 0,
      "outputs": []
    },
    {
      "cell_type": "code",
      "metadata": {
        "id": "thw_FHSBMYx0",
        "colab_type": "code",
        "colab": {
          "base_uri": "https://localhost:8080/",
          "height": 143
        },
        "outputId": "76f7832a-3bc4-4e80-be9d-84c57cbed864"
      },
      "source": [
        "add_vld"
      ],
      "execution_count": 86,
      "outputs": [
        {
          "output_type": "execute_result",
          "data": {
            "text/plain": [
              "array([[0., 0., 0., ..., 0., 0., 0.],\n",
              "       [0., 0., 0., ..., 0., 0., 0.],\n",
              "       [0., 0., 0., ..., 0., 0., 0.],\n",
              "       ...,\n",
              "       [0., 0., 0., ..., 0., 0., 0.],\n",
              "       [0., 0., 0., ..., 0., 0., 0.],\n",
              "       [0., 0., 1., ..., 0., 0., 0.]])"
            ]
          },
          "metadata": {
            "tags": []
          },
          "execution_count": 86
        }
      ]
    },
    {
      "cell_type": "code",
      "metadata": {
        "id": "Icmw-tKPLnPF",
        "colab_type": "code",
        "colab": {
          "base_uri": "https://localhost:8080/",
          "height": 35
        },
        "outputId": "e63ca44e-51fa-4578-ecad-292efb82a15c"
      },
      "source": [
        "add_vld_list[0]"
      ],
      "execution_count": 87,
      "outputs": [
        {
          "output_type": "execute_result",
          "data": {
            "text/plain": [
              "[]"
            ]
          },
          "metadata": {
            "tags": []
          },
          "execution_count": 87
        }
      ]
    },
    {
      "cell_type": "code",
      "metadata": {
        "id": "ycwXsMLkMjfW",
        "colab_type": "code",
        "colab": {
          "base_uri": "https://localhost:8080/",
          "height": 35
        },
        "outputId": "8bfb5494-c598-4f7d-c576-e1aed2512ca0"
      },
      "source": [
        "add_vld[16,23] # 16번째 고객의 23번째 상품이 신규구매이므로"
      ],
      "execution_count": 88,
      "outputs": [
        {
          "output_type": "execute_result",
          "data": {
            "text/plain": [
              "1.0"
            ]
          },
          "metadata": {
            "tags": []
          },
          "execution_count": 88
        }
      ]
    },
    {
      "cell_type": "code",
      "metadata": {
        "id": "jr3ATZkxMJ6W",
        "colab_type": "code",
        "colab": {
          "base_uri": "https://localhost:8080/",
          "height": 35
        },
        "outputId": "937ce53f-1a30-4c83-9e7e-69db70e43c70"
      },
      "source": [
        "add_vld_list[16] "
      ],
      "execution_count": 89,
      "outputs": [
        {
          "output_type": "execute_result",
          "data": {
            "text/plain": [
              "[23]"
            ]
          },
          "metadata": {
            "tags": []
          },
          "execution_count": 89
        }
      ]
    },
    {
      "cell_type": "code",
      "metadata": {
        "id": "7Ofu9pivMv7_",
        "colab_type": "code",
        "colab": {
          "base_uri": "https://localhost:8080/",
          "height": 35
        },
        "outputId": "0f5937ea-c2e3-4d0c-bc56-ddd8e2470e95"
      },
      "source": [
        "count_vld # 신규 구매 건수 "
      ],
      "execution_count": 90,
      "outputs": [
        {
          "output_type": "execute_result",
          "data": {
            "text/plain": [
              "37897"
            ]
          },
          "metadata": {
            "tags": []
          },
          "execution_count": 90
        }
      ]
    },
    {
      "cell_type": "code",
      "metadata": {
        "id": "scTH7B4jKjNn",
        "colab_type": "code",
        "colab": {}
      },
      "source": [
        "# import mapk  # 왜 안될까\n",
        "# average precision \n",
        "def apk(actual, predicted, k=7, default=0.0):\n",
        "    # MAP@7, k=7\n",
        "    if len(predicted)>k:\n",
        "        predicted = predicted[:k]\n",
        "\n",
        "    score = 0.0\n",
        "    num_hits =0.0 \n",
        "\n",
        "    for i, p in enumerate(predicted):\n",
        "        if p in actual and p not in predicted[:i]: # 정답이 있고 중복이 아니면\n",
        "            num_hits += 1.0\n",
        "            score += num_hits / (i+1.0)\n",
        "    \n",
        "    if not actual:\n",
        "        return default\n",
        "\n",
        "    return score / min(len(actual),k)   \n",
        "\n",
        "def mapk(actual, predicted, k=7, default=0.0):\n",
        "    return np.mean([apk(a,p,k,default) for a,p in zip(actual,predicted)]) # 고객별 apk 평균"
      ],
      "execution_count": 0,
      "outputs": []
    },
    {
      "cell_type": "code",
      "metadata": {
        "id": "0-umpKyeLbXR",
        "colab_type": "code",
        "colab": {
          "base_uri": "https://localhost:8080/",
          "height": 35
        },
        "outputId": "2a03e11b-ea7c-4fe3-d7ba-c925a163077e"
      },
      "source": [
        "# 검증데이터의 MAP@7 최고점 : 0.042663\n",
        "print(mapk(add_vld_list,add_vld_list))"
      ],
      "execution_count": 94,
      "outputs": [
        {
          "output_type": "stream",
          "text": [
            "0.04266379915553903\n"
          ],
          "name": "stdout"
        }
      ]
    },
    {
      "cell_type": "code",
      "metadata": {
        "id": "YjO8CNpeccgo",
        "colab_type": "code",
        "colab": {}
      },
      "source": [
        "# 검증데이터에 대한 예측값\n",
        "X_vld = vld.as_matrix(columns=features)\n",
        "Y_vld = vld.as_matrix(columns=['y'])\n",
        "dvld = xgb.DMatrix(X_vld, label=Y_vld, feature_names=features)\n",
        "preds_vld = model.predict(dvld, ntree_limit=best_ntree_limit)"
      ],
      "execution_count": 0,
      "outputs": []
    },
    {
      "cell_type": "code",
      "metadata": {
        "id": "nxZPfckIdKgc",
        "colab_type": "code",
        "colab": {
          "base_uri": "https://localhost:8080/",
          "height": 251
        },
        "outputId": "4a316c9b-962e-4cf1-8729-31337743edf9"
      },
      "source": [
        "preds_vld # 확률"
      ],
      "execution_count": 95,
      "outputs": [
        {
          "output_type": "execute_result",
          "data": {
            "text/plain": [
              "array([[ 1.71149509e-06,  7.84041913e-06, -9.99954695e-01, ...,\n",
              "         4.33766134e-02,  3.57372537e-02,  5.35317421e-01],\n",
              "       [ 1.47602225e-06,  6.76170930e-06, -9.99960271e-01, ...,\n",
              "         2.83613522e-02,  2.62700804e-02,  6.08545244e-01],\n",
              "       [ 6.78548940e-06,  3.10845644e-05,  1.51783764e-01, ...,\n",
              "        -9.98658303e-01, -9.98997754e-01, -9.99463987e-01],\n",
              "       ...,\n",
              "       [ 2.42349529e-06,  1.11021172e-05, -9.99925631e-01, ...,\n",
              "         6.65091053e-02,  6.74702227e-02,  6.20828927e-01],\n",
              "       [ 6.28272460e-07,  2.87813828e-06, -9.99976481e-01, ...,\n",
              "         1.20594623e-02,  1.48870889e-02,  9.19652224e-01],\n",
              "       [ 1.25857150e-06,  5.76555976e-06,  7.88953185e-01, ...,\n",
              "         2.37722695e-02,  2.54630875e-02,  2.82873083e-02]])"
            ]
          },
          "metadata": {
            "tags": []
          },
          "execution_count": 95
        }
      ]
    },
    {
      "cell_type": "code",
      "metadata": {
        "id": "FIDLwvKwcgl4",
        "colab_type": "code",
        "colab": {}
      },
      "source": [
        "# 신규 구매라고 예측하였으나 한달 전 (이미) 구매한 제품은 제외해야함\n",
        "# 이 경우 prods_vld 확률에서 1 뺄셈\n",
        "preds_vld = preds_vld - vld.as_matrix(columns=[prod+'_prev' for prod in prods])"
      ],
      "execution_count": 0,
      "outputs": []
    },
    {
      "cell_type": "code",
      "metadata": {
        "id": "EjlkUAWKdtBS",
        "colab_type": "code",
        "colab": {
          "base_uri": "https://localhost:8080/",
          "height": 35
        },
        "outputId": "bb436fcc-ebed-4780-957a-f4756ccae64f"
      },
      "source": [
        "# 참고\n",
        "list(zip([1,2,3],['a','b','c']))"
      ],
      "execution_count": 96,
      "outputs": [
        {
          "output_type": "execute_result",
          "data": {
            "text/plain": [
              "[(1, 'a'), (2, 'b'), (3, 'c')]"
            ]
          },
          "metadata": {
            "tags": []
          },
          "execution_count": 96
        }
      ]
    },
    {
      "cell_type": "code",
      "metadata": {
        "id": "IhZu0VsxdOBV",
        "colab_type": "code",
        "colab": {}
      },
      "source": [
        "# 검증 데이터 예측 상위 7개 추출\n",
        "result_vld = []\n",
        "for ncodper, pred in zip(ncodpers_vld, preds_vld):\n",
        "    y_prods = [(y,p,ip) for y,p,ip in zip(pred, prods,range(len(prods)))]\n",
        "    y_prods = sorted(y_prods, key=lambda a: a[0], reverse=True)[:7]\n",
        "    result_vld.append([ip for y,p,ip in y_prods])\n",
        "\n",
        "print(mapk(add_vld_list, result_vld))"
      ],
      "execution_count": 0,
      "outputs": []
    },
    {
      "cell_type": "markdown",
      "metadata": {
        "id": "DB5mkA3zgcxq",
        "colab_type": "text"
      },
      "source": [
        "Baseline 모델 정확도 = 검증데이터 MAP@7 / 검증데이터 최고 점수 \n",
        "\n",
        ": 어떻게 판단하는것일까? "
      ]
    },
    {
      "cell_type": "code",
      "metadata": {
        "id": "VyGm3dsegZOL",
        "colab_type": "code",
        "colab": {
          "base_uri": "https://localhost:8080/",
          "height": 35
        },
        "outputId": "50679817-fdb5-4ca5-c5c4-33064deb5526"
      },
      "source": [
        "0.036466 / 0.042663 #85%"
      ],
      "execution_count": 97,
      "outputs": [
        {
          "output_type": "execute_result",
          "data": {
            "text/plain": [
              "0.8547453296767691"
            ]
          },
          "metadata": {
            "tags": []
          },
          "execution_count": 97
        }
      ]
    },
    {
      "cell_type": "code",
      "metadata": {
        "id": "rsIVzey7en_g",
        "colab_type": "code",
        "colab": {
          "base_uri": "https://localhost:8080/",
          "height": 449
        },
        "outputId": "9a1f2a1c-3fc6-4fba-b650-4671f6e2f23b"
      },
      "source": [
        "# 위 코드 예시\n",
        "ncodper = ncodpers_vld[0]\n",
        "pred = preds_vld[0]\n",
        "y_prods = list(zip(pred, prods, range(len(prods))))\n",
        "y_prods # 확률, 상품명, 상품번호"
      ],
      "execution_count": 98,
      "outputs": [
        {
          "output_type": "execute_result",
          "data": {
            "text/plain": [
              "[(1.7114950878749369e-06, 'ind_ahor_fin_ult1', 0),\n",
              " (7.840419129934162e-06, 'ind_aval_fin_ult1', 1),\n",
              " (-0.9999546948056377, 'ind_cco_fin_ult1', 2),\n",
              " (0.0003286047140136361, 'ind_cder_fin_ult1', 3),\n",
              " (0.0182532649487257, 'ind_cno_fin_ult1', 4),\n",
              " (1.0874562576645985e-05, 'ind_ctju_fin_ult1', 5),\n",
              " (0.0035789289977401495, 'ind_ctma_fin_ult1', 6),\n",
              " (0.013079753145575523, 'ind_ctop_fin_ult1', 7),\n",
              " (0.03224855288863182, 'ind_ctpp_fin_ult1', 8),\n",
              " (7.840419129934162e-06, 'ind_deco_fin_ult1', 9),\n",
              " (1.7114950878749369e-06, 'ind_deme_fin_ult1', 10),\n",
              " (0.014728052541613579, 'ind_dela_fin_ult1', 11),\n",
              " (0.12283958494663239, 'ind_ecue_fin_ult1', 12),\n",
              " (0.0014466814463958144, 'ind_fond_fin_ult1', 13),\n",
              " (3.246355845476501e-05, 'ind_hip_fin_ult1', 14),\n",
              " (0.001074545318260789, 'ind_plan_fin_ult1', 15),\n",
              " (2.762900840025395e-05, 'ind_pres_fin_ult1', 16),\n",
              " (0.008486397564411163, 'ind_reca_fin_ult1', 17),\n",
              " (0.16382117569446564, 'ind_tjcr_fin_ult1', 18),\n",
              " (0.005490692798048258, 'ind_valo_fin_ult1', 19),\n",
              " (5.712537677027285e-05, 'ind_viv_fin_ult1', 20),\n",
              " (0.0433766134083271, 'ind_nomina_ult1', 21),\n",
              " (0.03573725372552872, 'ind_nom_pens_ult1', 22),\n",
              " (0.5353174209594727, 'ind_recibo_ult1', 23)]"
            ]
          },
          "metadata": {
            "tags": []
          },
          "execution_count": 98
        }
      ]
    },
    {
      "cell_type": "code",
      "metadata": {
        "id": "Gg9K1Y_EfR6g",
        "colab_type": "code",
        "colab": {
          "base_uri": "https://localhost:8080/",
          "height": 143
        },
        "outputId": "dd486389-f9ea-4661-e332-78c1d7848d3a"
      },
      "source": [
        "sorted(y_prods, key=lambda a: a[0], reverse=True)[:7] # pred 기준으로 확률 내림차순, 상위 7개"
      ],
      "execution_count": 99,
      "outputs": [
        {
          "output_type": "execute_result",
          "data": {
            "text/plain": [
              "[(0.5353174209594727, 'ind_recibo_ult1', 23),\n",
              " (0.16382117569446564, 'ind_tjcr_fin_ult1', 18),\n",
              " (0.12283958494663239, 'ind_ecue_fin_ult1', 12),\n",
              " (0.0433766134083271, 'ind_nomina_ult1', 21),\n",
              " (0.03573725372552872, 'ind_nom_pens_ult1', 22),\n",
              " (0.03224855288863182, 'ind_ctpp_fin_ult1', 8),\n",
              " (0.0182532649487257, 'ind_cno_fin_ult1', 4)]"
            ]
          },
          "metadata": {
            "tags": []
          },
          "execution_count": 99
        }
      ]
    },
    {
      "cell_type": "code",
      "metadata": {
        "id": "rHWhkX3Nf0MS",
        "colab_type": "code",
        "colab": {
          "base_uri": "https://localhost:8080/",
          "height": 107
        },
        "outputId": "e15bb0da-08be-4faf-a23d-7ae19425912b"
      },
      "source": [
        "result_vld[0:5] # 예측된 상품 번호"
      ],
      "execution_count": 100,
      "outputs": [
        {
          "output_type": "execute_result",
          "data": {
            "text/plain": [
              "[[23, 18, 12, 21, 22, 8, 4],\n",
              " [23, 18, 12, 21, 22, 11, 4],\n",
              " [8, 17, 2, 19, 7, 11, 15],\n",
              " [23, 18, 12, 7, 21, 13, 22],\n",
              " [23, 12, 21, 4, 22, 13, 19]]"
            ]
          },
          "metadata": {
            "tags": []
          },
          "execution_count": 100
        }
      ]
    },
    {
      "cell_type": "markdown",
      "metadata": {
        "id": "jCoUhmcNmHSJ",
        "colab_type": "text"
      },
      "source": [
        "### 4. 전체 데이터 학습 및 테스트 데이터 예측"
      ]
    },
    {
      "cell_type": "code",
      "metadata": {
        "id": "3lHPLQY1l2MK",
        "colab_type": "code",
        "colab": {}
      },
      "source": [
        "X_all = XY.as_matrix(columns=features)\n",
        "Y_all = XY.as_matrix(columns=['y'])\n",
        "dall = xgb.DMatrix(X_all, label=Y_all, feature_names=features)\n",
        "watch_list = [(dall, 'train')]\n",
        "# 트리 개수는 늘어난 데이터 양 만큼 비례해서 증가\n",
        "best_ntree_limit = int(best_ntree_limit * (len(XY_trn)+len(XY_vld))/len(XY_trn))\n",
        "# 재학습\n",
        "model = xgb.train(param, dall, num_boost_round=best_ntree_limit, evals=watch_list) # 엄청 오래걸리네 ..."
      ],
      "execution_count": 0,
      "outputs": []
    },
    {
      "cell_type": "code",
      "metadata": {
        "colab_type": "code",
        "id": "zvJ0dTcVDlV8",
        "colab": {}
      },
      "source": [
        "# 모델 저장\n",
        "filename = 'xgb.baseline.all.pkl'\n",
        "pickle.dump(model, open(filename,'wb'))"
      ],
      "execution_count": 0,
      "outputs": []
    },
    {
      "cell_type": "code",
      "metadata": {
        "id": "t_P03SBU91jQ",
        "colab_type": "code",
        "colab": {
          "base_uri": "https://localhost:8080/",
          "height": 1000
        },
        "outputId": "e48da19a-6c62-4deb-8271-490d109022ed"
      },
      "source": [
        "[(k,v) for k,v in model.get_fscore().items()]"
      ],
      "execution_count": 101,
      "outputs": [
        {
          "output_type": "execute_result",
          "data": {
            "text/plain": [
              "[('ind_empleado_prev', 158),\n",
              " ('ind_cco_fin_ult1_prev', 3471),\n",
              " ('tiprel_1mes', 1903),\n",
              " ('ind_cno_fin_ult1_prev', 3461),\n",
              " ('ind_tjcr_fin_ult1_prev', 2566),\n",
              " ('ind_nomina_ult1_prev', 1679),\n",
              " ('ind_ctma_fin_ult1_prev', 1025),\n",
              " ('ind_ctju_fin_ult1_prev', 107),\n",
              " ('antiguedad', 25660),\n",
              " ('ind_ecue_fin_ult1_prev', 3798),\n",
              " ('age_prev', 18163),\n",
              " ('ind_ctop_fin_ult1_prev', 1892),\n",
              " ('age', 23348),\n",
              " ('renta', 27350),\n",
              " ('antiguedad_prev', 20663),\n",
              " ('ind_valo_fin_ult1_prev', 1789),\n",
              " ('canal_entrada_prev', 6665),\n",
              " ('segmento', 2609),\n",
              " ('ind_nuevo', 867),\n",
              " ('ind_actividad_cliente', 1321),\n",
              " ('segmento_prev', 2568),\n",
              " ('ind_actividad_cliente_prev', 991),\n",
              " ('ind_reca_fin_ult1_prev', 2526),\n",
              " ('ind_hip_fin_ult1_prev', 617),\n",
              " ('nomprov_prev', 9420),\n",
              " ('ind_ctpp_fin_ult1_prev', 1571),\n",
              " ('canal_entrada', 10067),\n",
              " ('ind_plan_fin_ult1_prev', 706),\n",
              " ('sexo', 4294),\n",
              " ('indext_prev', 512),\n",
              " ('nomprov', 14228),\n",
              " ('indrel_1mes_prev', 324),\n",
              " ('tiprel_1mes_prev', 1498),\n",
              " ('indrel_1mes', 453),\n",
              " ('ind_nuevo_prev', 574),\n",
              " ('renta_prev', 12721),\n",
              " ('indext', 950),\n",
              " ('ind_recibo_ult1_prev', 4000),\n",
              " ('ind_fond_fin_ult1_prev', 1117),\n",
              " ('ind_nom_pens_ult1_prev', 1900),\n",
              " ('ind_deco_fin_ult1_prev', 450),\n",
              " ('ind_viv_fin_ult1_prev', 212),\n",
              " ('ind_dela_fin_ult1_prev', 1814),\n",
              " ('pais_residencia', 312),\n",
              " ('conyuemp_prev', 43),\n",
              " ('sexo_prev', 1763),\n",
              " ('indrel_prev', 2),\n",
              " ('pais_residencia_prev', 214),\n",
              " ('ind_pres_fin_ult1_prev', 112),\n",
              " ('indresi_prev', 17),\n",
              " ('ind_deme_fin_ult1_prev', 123),\n",
              " ('indfall_prev', 25),\n",
              " ('indrel', 273),\n",
              " ('ind_empleado', 202),\n",
              " ('indfall', 40),\n",
              " ('indresi', 24),\n",
              " ('ind_cder_fin_ult1_prev', 49)]"
            ]
          },
          "metadata": {
            "tags": []
          },
          "execution_count": 101
        }
      ]
    },
    {
      "cell_type": "code",
      "metadata": {
        "id": "hzI-Tb3_m5W9",
        "colab_type": "code",
        "colab": {
          "base_uri": "https://localhost:8080/",
          "height": 1000
        },
        "outputId": "08ef60db-7c23-40c1-fcf8-f950a4f8c4ba"
      },
      "source": [
        "# 변수중요도 - EDA 결과와 비교해볼것\n",
        "print(\"Feature importance:\")\n",
        "for kv in sorted([(k,v) for k,v in model.get_fscore().items()], key=lambda kv: kv[1], reverse=True):\n",
        "    print(kv)"
      ],
      "execution_count": 102,
      "outputs": [
        {
          "output_type": "stream",
          "text": [
            "Feature importance:\n",
            "('renta', 27350)\n",
            "('antiguedad', 25660)\n",
            "('age', 23348)\n",
            "('antiguedad_prev', 20663)\n",
            "('age_prev', 18163)\n",
            "('nomprov', 14228)\n",
            "('renta_prev', 12721)\n",
            "('canal_entrada', 10067)\n",
            "('nomprov_prev', 9420)\n",
            "('canal_entrada_prev', 6665)\n",
            "('sexo', 4294)\n",
            "('ind_recibo_ult1_prev', 4000)\n",
            "('ind_ecue_fin_ult1_prev', 3798)\n",
            "('ind_cco_fin_ult1_prev', 3471)\n",
            "('ind_cno_fin_ult1_prev', 3461)\n",
            "('segmento', 2609)\n",
            "('segmento_prev', 2568)\n",
            "('ind_tjcr_fin_ult1_prev', 2566)\n",
            "('ind_reca_fin_ult1_prev', 2526)\n",
            "('tiprel_1mes', 1903)\n",
            "('ind_nom_pens_ult1_prev', 1900)\n",
            "('ind_ctop_fin_ult1_prev', 1892)\n",
            "('ind_dela_fin_ult1_prev', 1814)\n",
            "('ind_valo_fin_ult1_prev', 1789)\n",
            "('sexo_prev', 1763)\n",
            "('ind_nomina_ult1_prev', 1679)\n",
            "('ind_ctpp_fin_ult1_prev', 1571)\n",
            "('tiprel_1mes_prev', 1498)\n",
            "('ind_actividad_cliente', 1321)\n",
            "('ind_fond_fin_ult1_prev', 1117)\n",
            "('ind_ctma_fin_ult1_prev', 1025)\n",
            "('ind_actividad_cliente_prev', 991)\n",
            "('indext', 950)\n",
            "('ind_nuevo', 867)\n",
            "('ind_plan_fin_ult1_prev', 706)\n",
            "('ind_hip_fin_ult1_prev', 617)\n",
            "('ind_nuevo_prev', 574)\n",
            "('indext_prev', 512)\n",
            "('indrel_1mes', 453)\n",
            "('ind_deco_fin_ult1_prev', 450)\n",
            "('indrel_1mes_prev', 324)\n",
            "('pais_residencia', 312)\n",
            "('indrel', 273)\n",
            "('pais_residencia_prev', 214)\n",
            "('ind_viv_fin_ult1_prev', 212)\n",
            "('ind_empleado', 202)\n",
            "('ind_empleado_prev', 158)\n",
            "('ind_deme_fin_ult1_prev', 123)\n",
            "('ind_pres_fin_ult1_prev', 112)\n",
            "('ind_ctju_fin_ult1_prev', 107)\n",
            "('ind_cder_fin_ult1_prev', 49)\n",
            "('conyuemp_prev', 43)\n",
            "('indfall', 40)\n",
            "('indfall_prev', 25)\n",
            "('indresi', 24)\n",
            "('indresi_prev', 17)\n",
            "('indrel_prev', 2)\n"
          ],
          "name": "stdout"
        }
      ]
    },
    {
      "cell_type": "code",
      "metadata": {
        "id": "5EEUFXUd_26M",
        "colab_type": "code",
        "colab": {}
      },
      "source": [
        "# 테스트 데이터 예측 값\n",
        "X_tst = tst.as_matrix(columns=features)\n",
        "dtst = xgb.DMatrix(X_tst, feature_names=features)\n",
        "preds_tst = model.predict(dtst, ntree_limit=best_ntree_limit)\n",
        "ncodpers_tst = tst.as_matrix(columns=['ncodpers']) # 왜 필요하지?\n",
        "preds_tst = preds_tst - tst.as_matrix(columns=[prod + '_prev' for prod in prods]) # 지난 달에 구입한 상품인 경우 방지"
      ],
      "execution_count": 0,
      "outputs": []
    },
    {
      "cell_type": "markdown",
      "metadata": {
        "id": "cvV3vBWlOLB7",
        "colab_type": "text"
      },
      "source": [
        "제출파일에 관한 경진대회 규칙\n",
        "\n",
        ": 고객 식별 번호(ncodpers)와 7개의 제품 변수 이름을 공백 기준으로 띄워 입력할 것\n"
      ]
    },
    {
      "cell_type": "code",
      "metadata": {
        "id": "8bbjK1DP_x22",
        "colab_type": "code",
        "colab": {}
      },
      "source": [
        "# 제출 파일 생성\n",
        "submit_file = open('../xgb.baseline.2015-06-28', 'w')\n",
        "submit_file.write('ncodpers,added_products\\n')\n",
        "for ncodper, pred in zip(ncodpers_tst, preds_tst):\n",
        "    y_prods = [(y,p,ip) for y,p,ip in zip(pred, prods, range(len(prods)))]\n",
        "    y_prods = sorted(y_prods, key=lambda a: a[0], reverse=True)[:7] # 확률 제일 큰 7개\n",
        "    y_prods = [p for y,p,ip in y_prods] # prods name만 추출\n",
        "    submit_file.write('{},{}\\n'.format(int(ncodper), ' '.join(y_prods))) # 무슨 코드인지 모르겠다 "
      ],
      "execution_count": 0,
      "outputs": []
    },
    {
      "cell_type": "code",
      "metadata": {
        "id": "iO-yC5o03Gy0",
        "colab_type": "code",
        "outputId": "cfe60383-0636-4982-9782-f379abded880",
        "colab": {
          "base_uri": "https://localhost:8080/",
          "height": 35
        }
      },
      "source": [
        "y_prods = ['A','B','C']\n",
        "'*'.join(y_prods)"
      ],
      "execution_count": 0,
      "outputs": [
        {
          "output_type": "execute_result",
          "data": {
            "text/plain": [
              "'A*B*C'"
            ]
          },
          "metadata": {
            "tags": []
          },
          "execution_count": 63
        }
      ]
    },
    {
      "cell_type": "code",
      "metadata": {
        "id": "js-0VW7BoAwS",
        "colab_type": "code",
        "outputId": "efb67f70-e14f-4ec0-aef2-fbfebb54c092",
        "colab": {
          "base_uri": "https://localhost:8080/",
          "height": 143
        }
      },
      "source": [
        "# 위 코드 참고\n",
        "list(zip(ncodpers_tst, preds_tst))[0]"
      ],
      "execution_count": 0,
      "outputs": [
        {
          "output_type": "execute_result",
          "data": {
            "text/plain": [
              "(array([15889]),\n",
              " array([ 1.17063764e-05,  1.17063764e-05, -9.99902844e-01,  1.76199386e-03,\n",
              "         8.06581508e-03,  1.96998863e-05,  4.55672474e-04,  1.08683445e-04,\n",
              "        -9.99614105e-01,  1.17063764e-05,  1.44100989e-06,  7.44636776e-03,\n",
              "         2.37477034e-01,  1.61055364e-02,  1.82707212e-04,  2.21204082e-03,\n",
              "         4.04217775e-04,  2.14105118e-02, -9.99607326e-01, -9.99033336e-01,\n",
              "         1.30406697e-04,  3.77478041e-02,  2.88833976e-02,  6.35709167e-01]))"
            ]
          },
          "metadata": {
            "tags": []
          },
          "execution_count": 41
        }
      ]
    },
    {
      "cell_type": "code",
      "metadata": {
        "id": "CQ5r24Wp1bqG",
        "colab_type": "code",
        "outputId": "eaad3b9e-67e9-461e-8e10-9d21a4a4bd81",
        "colab": {
          "base_uri": "https://localhost:8080/",
          "height": 107
        }
      },
      "source": [
        "# submit_file = open('xgb.baseline.2015-06-28', 'r')\n",
        "lines = submit_file.readlines()\n",
        "lines[0:5]"
      ],
      "execution_count": 0,
      "outputs": [
        {
          "output_type": "execute_result",
          "data": {
            "text/plain": [
              "['15889,ind_recibo_ult1 ind_ecue_fin_ult1 ind_nomina_ult1 ind_nom_pens_ult1 ind_reca_fin_ult1 ind_fond_fin_ult1 ind_cno_fin_ult1\\n',\n",
              " '1170544,ind_recibo_ult1 ind_cno_fin_ult1 ind_nom_pens_ult1 ind_nomina_ult1 ind_ecue_fin_ult1 ind_reca_fin_ult1 ind_tjcr_fin_ult1\\n',\n",
              " '1170545,ind_recibo_ult1 ind_nom_pens_ult1 ind_nomina_ult1 ind_cno_fin_ult1 ind_tjcr_fin_ult1 ind_reca_fin_ult1 ind_ecue_fin_ult1\\n',\n",
              " '1170547,ind_recibo_ult1 ind_reca_fin_ult1 ind_nom_pens_ult1 ind_cno_fin_ult1 ind_nomina_ult1 ind_ecue_fin_ult1 ind_ctma_fin_ult1\\n',\n",
              " '1170548,ind_recibo_ult1 ind_reca_fin_ult1 ind_nom_pens_ult1 ind_cno_fin_ult1 ind_nomina_ult1 ind_ecue_fin_ult1 ind_dela_fin_ult1\\n']"
            ]
          },
          "metadata": {
            "tags": []
          },
          "execution_count": 51
        }
      ]
    }
  ]
}
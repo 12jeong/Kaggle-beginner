{
  "nbformat": 4,
  "nbformat_minor": 0,
  "metadata": {
    "colab": {
      "name": "D03_model_baseline.ipynb",
      "provenance": [],
      "private_outputs": true,
      "machine_shape": "hm",
      "authorship_tag": "ABX9TyPV1lQWt4i7mh9Nps0Wdw0d",
      "include_colab_link": true
    },
    "kernelspec": {
      "name": "python3",
      "display_name": "Python 3"
    }
  },
  "cells": [
    {
      "cell_type": "markdown",
      "metadata": {
        "id": "view-in-github",
        "colab_type": "text"
      },
      "source": [
        "<a href=\"https://colab.research.google.com/github/12jeong/Kaggle-beginner/blob/master/Santander-Product-Recommendation-Competition/D03_model_baseline.ipynb\" target=\"_parent\"><img src=\"https://colab.research.google.com/assets/colab-badge.svg\" alt=\"Open In Colab\"/></a>"
      ]
    },
    {
      "cell_type": "code",
      "metadata": {
        "id": "rPOv8jsS0QpE",
        "colab_type": "code",
        "colab": {}
      },
      "source": [
        "from tensorflow.python.client import device_lib\n",
        "import platform\n",
        "from google.colab import drive\n",
        "drive.mount('/content/drive/')"
      ],
      "execution_count": 0,
      "outputs": []
    },
    {
      "cell_type": "code",
      "metadata": {
        "id": "Nf7f3Iap0X3m",
        "colab_type": "code",
        "colab": {}
      },
      "source": [
        "import os\n",
        "import pandas as pd\n",
        "import numpy as np\n",
        "import matplotlib\n",
        "import matplotlib.pyplot as plt\n",
        "# For Jupyter Notebook\n",
        "%matplotlib inline\n",
        "import seaborn as sns\n",
        "import xgboost as xgb\n",
        "import pickle\n",
        "os.getcwd()\n",
        "os.chdir('/content/drive/My Drive/Colab Notebooks/Kaggle-beginner')"
      ],
      "execution_count": 0,
      "outputs": []
    },
    {
      "cell_type": "code",
      "metadata": {
        "id": "kYlb8pqe0h-u",
        "colab_type": "code",
        "colab": {}
      },
      "source": [
        "filename = \"feature_list.pickle\"\n",
        "with open(filename, 'rb') as f:\n",
        "    features = pickle.load(f)\n",
        "    prods = pickle.load(f) "
      ],
      "execution_count": 0,
      "outputs": []
    },
    {
      "cell_type": "code",
      "metadata": {
        "id": "MtJko_Nl2zrY",
        "colab_type": "code",
        "colab": {}
      },
      "source": [
        "df_trn = pd.read_csv('df_trn.csv') # 4GB"
      ],
      "execution_count": 0,
      "outputs": []
    },
    {
      "cell_type": "markdown",
      "metadata": {
        "id": "PYxhxRul1kMw",
        "colab_type": "text"
      },
      "source": [
        "### 3. baseline 모형 학습 \n",
        "- train_ver2.csv : 2015-01-28~2016-05-28  \n",
        "- test_ver2.csv : 2016-06-28\n",
        "- baseline 용 간소화된 모델을 위해 2016-01-28~2016-04-28 을 학습 데이터, 2016-05-28 을 검증 데이터로 사용"
      ]
    },
    {
      "cell_type": "code",
      "metadata": {
        "id": "O7BBeA381RCV",
        "colab_type": "code",
        "colab": {}
      },
      "source": [
        "# 데이터 분리\n",
        "use_dates = ['2016-01-28','2016-02-28','2016-03-28','2016-04-28','2016-05-28']\n",
        "trn = df_trn[df_trn['fecha_dato'].isin(use_dates)]\n",
        "tst = df_trn[df_trn['fecha_dato']=='2016-06-28']\n",
        "del df_trn"
      ],
      "execution_count": 0,
      "outputs": []
    },
    {
      "cell_type": "code",
      "metadata": {
        "id": "35giH_UD41hY",
        "colab_type": "code",
        "colab": {}
      },
      "source": [
        "# 참고\n",
        "lst = ['dog','cat','bird','monkey']\n",
        "for x, y in enumerate(lst):\n",
        "    print(x)\n",
        "    print(y)"
      ],
      "execution_count": 0,
      "outputs": []
    },
    {
      "cell_type": "code",
      "metadata": {
        "id": "v-JAfF4-4woH",
        "colab_type": "code",
        "colab": {}
      },
      "source": [
        "# 신규 상품 구매 정보가 있는 데이터만 추출\n",
        "X = []\n",
        "Y = []\n",
        "for i,prod in enumerate(prods):\n",
        "    prev = prod+'_prev'\n",
        "    prX = trn[(trn[prod]==1) & (trn[prev]==0)]   # 이 방법 매우 좋은듯 \n",
        "    prY = np.zeros(prX.shape[0], dtype=np.int8) + i # 몇 번째 상품이 신규구매인지 표시 \n",
        "    X.append(prX)\n",
        "    Y.append(prY)\n",
        "XY = pd.concat(X) # 가로 쌓기\n",
        "Y = np.hstack(Y)  # 배열 옆으로 쌓기 ...? \n",
        "XY['y'] = Y"
      ],
      "execution_count": 0,
      "outputs": []
    },
    {
      "cell_type": "code",
      "metadata": {
        "id": "mSgp_nNgBpEw",
        "colab_type": "code",
        "colab": {}
      },
      "source": [
        "Y # 24개의 class를 예측하는 문제"
      ],
      "execution_count": 0,
      "outputs": []
    },
    {
      "cell_type": "code",
      "metadata": {
        "id": "rf9QCSnN66wM",
        "colab_type": "code",
        "colab": {}
      },
      "source": [
        "# 데이터 분리\n",
        "vld_date = '2016-05-28'\n",
        "XY_trn = XY[XY['fecha_dato']!=vld_date]\n",
        "XY_vld = XY[XY['fecha_dato']==vld_date]"
      ],
      "execution_count": 0,
      "outputs": []
    },
    {
      "cell_type": "markdown",
      "metadata": {
        "id": "0hAnFma68PVT",
        "colab_type": "text"
      },
      "source": [
        "XGBoost\n",
        "- Gradient Tree Boosting with Regularization (variant of original GBM)\n",
        " = XGBoost (eXtreme Gradient Boosting)\n",
        " $$ \\hat{y_i} = \\sum_{k=1}^K f_k (x_i) , ~~f_k \\in \\mathcal{F} $$\n",
        " 이때 K는 트리의 수이고, 목적함수는 다음과 같음 (자세한 설명은 생략)\n",
        " $$ \\mbox{min} \\sum_{i=1}^n l (y_i, \\hat{y_i}) + \\sum_{k=1}^K \\Omega (f_k) $$\n",
        "\n",
        "- 모델 파라미터\n",
        "    - est : learning late\n",
        "    - gamma : Information Gain의 -r\n",
        "    - max_depth : 트리의 최대 깊이\n",
        "    - colsample_bytree : 변수 샘플링 비율\n",
        "    - colsample_bylevel : 트리 레벨 별 변수 샘플링 비율\n",
        "\n",
        "- (참고) 파이썬 사이킷런에서 제공하지 않음\n",
        "- 시간 투자 대비 효율을 생각했을 때 파라미터 튜닝 보다 피처 엔지니어링에 더 신경쓰는 것을 권장하는 의견이 있음\n"
      ]
    },
    {
      "cell_type": "code",
      "metadata": {
        "id": "RgIq-p6j7SiS",
        "colab_type": "code",
        "colab": {}
      },
      "source": [
        "# specify parameters via map\n",
        "param = {\n",
        "    'booster': 'gbtree',\n",
        "    'max_depth': 8,\n",
        "    'nthread': 4,\n",
        "    'num_class': len(prods),\n",
        "    'objective': 'multi:softprob',\n",
        "    'silent': 1,\n",
        "    'eval_metric': 'mlogloss',\n",
        "    'eta': 0.1,\n",
        "    'min_child_weight': 10,\n",
        "    'colsample_bytree': 0.8,\n",
        "    'colsample_bylevel': 0.9,\n",
        "    'seed': 2018,\n",
        "}\n",
        "\n",
        "# read in data\n",
        "X_trn = XY_trn.as_matrix(columns=features)\n",
        "Y_trn = XY_trn.as_matrix(columns=['y'])\n",
        "dtrn = xgb.DMatrix(X_trn, label=Y_trn, feature_names=features)\n",
        "\n",
        "X_vld = XY_vld.as_matrix(columns=features)\n",
        "Y_vld = XY_vld.as_matrix(columns=['y'])\n",
        "dvld = xgb.DMatrix(X_vld, label=Y_vld, feature_names=features)"
      ],
      "execution_count": 0,
      "outputs": []
    },
    {
      "cell_type": "markdown",
      "metadata": {
        "id": "QBFrFfcoHL5Y",
        "colab_type": "text"
      },
      "source": [
        "> **class xgboost.DMatrix**(data, label=None, weight=None, base_margin=None, missing=None, silent=False, feature_names=None, feature_types=None, nthread=None)\n",
        "무슨 역할인지 아직 못찾음. "
      ]
    },
    {
      "cell_type": "markdown",
      "metadata": {
        "id": "90GZF__3FJo-",
        "colab_type": "text"
      },
      "source": [
        "> **xgboost.train**(params, dtrain, num_boost_round=10, evals=(), obj=None, feval=None, maximize=False, early_stopping_rounds=None, evals_result=None, verbose_eval=True, xgb_model=None, callbacks=None)  \n",
        "params (dict) – Booster params.  \n",
        "dtrain (DMatrix) – Data to be trained.   \n",
        "num_boost_round (int) – Number of boosting iterations.  \n",
        "evals (list of pairs (DMatrix, string)) – List of validation sets for which metrics will evaluated during training. Validation metrics will help us track the performance of the model. Example: with a watchlist containing [(dtest,'eval'), (dtrain,'train')]"
      ]
    },
    {
      "cell_type": "code",
      "metadata": {
        "id": "oEscyPUFDiVW",
        "colab_type": "code",
        "colab": {}
      },
      "source": [
        "watch_list = [(dtrn,'train'),(dvld,'eval')] # evlas의 역할? 왜 validation matrix를 넣지?\n",
        "model = xgb.train(param, dtrn, num_boost_round=1000, evals=watch_list, early_stopping_rounds= 20) "
      ],
      "execution_count": 0,
      "outputs": []
    },
    {
      "cell_type": "code",
      "metadata": {
        "id": "5KK9rpjIEG01",
        "colab_type": "code",
        "colab": {}
      },
      "source": [
        "# 모델 저장\n",
        "# filename = 'xgb.baseline.pkl'\n",
        "# pickle.dump(model, open(filename,'wb'))\n",
        "best_ntree_limit = model.best_ntree_limit # ?"
      ],
      "execution_count": 0,
      "outputs": []
    },
    {
      "cell_type": "code",
      "metadata": {
        "id": "Y8PUuAamm0PA",
        "colab_type": "code",
        "colab": {}
      },
      "source": [
        "best_ntree_limit # iteration이 멈춘 시점?"
      ],
      "execution_count": 0,
      "outputs": []
    },
    {
      "cell_type": "code",
      "metadata": {
        "id": "Im4MJX2HHz8J",
        "colab_type": "code",
        "colab": {}
      },
      "source": [
        "## Cross validation - MAP@7 계산  (baseline model)\n",
        "vld = trn[trn['fecha_dato']==vld_date]\n",
        "ncodpers_vld = vld.as_matrix(columns=['ncodpers'])\n",
        "# 신규 구매 정갑값 추출\n",
        "for prod in prods:\n",
        "    prev = prod + '_prev'\n",
        "    padd = prod + '_add'\n",
        "    vld[padd] = vld[prod] - vld[prev] # 신규구매면 1\n",
        "add_vld = vld.as_matrix(columns=[prod+'_add' for prod in prods])\n",
        "add_vld_list = [list() for i in range(len(ncodpers_vld))]\n",
        "\n",
        "# add_vld_list: 고객 별 신규 구매 정답값\n",
        "count_vld = 0 \n",
        "for ncodpers in range(len(ncodpers_vld)):\n",
        "    for prod in range(len(prods)):\n",
        "        if add_vld[ncodpers, prod] >0:\n",
        "            add_vld_list[ncodpers].append(prod)\n",
        "            count_vld +=1 "
      ],
      "execution_count": 0,
      "outputs": []
    },
    {
      "cell_type": "code",
      "metadata": {
        "id": "thw_FHSBMYx0",
        "colab_type": "code",
        "colab": {}
      },
      "source": [
        "add_vld"
      ],
      "execution_count": 0,
      "outputs": []
    },
    {
      "cell_type": "code",
      "metadata": {
        "id": "Icmw-tKPLnPF",
        "colab_type": "code",
        "colab": {}
      },
      "source": [
        "add_vld_list[0]"
      ],
      "execution_count": 0,
      "outputs": []
    },
    {
      "cell_type": "code",
      "metadata": {
        "id": "ycwXsMLkMjfW",
        "colab_type": "code",
        "colab": {}
      },
      "source": [
        "add_vld[16,23] # 16번째 고객의 23번째 상품이 신규구매이므로"
      ],
      "execution_count": 0,
      "outputs": []
    },
    {
      "cell_type": "code",
      "metadata": {
        "id": "jr3ATZkxMJ6W",
        "colab_type": "code",
        "colab": {}
      },
      "source": [
        "add_vld_list[16] "
      ],
      "execution_count": 0,
      "outputs": []
    },
    {
      "cell_type": "code",
      "metadata": {
        "id": "7Ofu9pivMv7_",
        "colab_type": "code",
        "colab": {}
      },
      "source": [
        "count_vld # 신규 구매 건수 "
      ],
      "execution_count": 0,
      "outputs": []
    },
    {
      "cell_type": "code",
      "metadata": {
        "id": "scTH7B4jKjNn",
        "colab_type": "code",
        "colab": {}
      },
      "source": [
        "# import mapk  # 왜 안될까\n",
        "# average precision \n",
        "def apk(actual, predicted, k=7, default=0.0):\n",
        "    # MAP@7, k=7\n",
        "    if len(predicted)>k:\n",
        "        predicted = predicted[:k]\n",
        "\n",
        "    score = 0.0\n",
        "    num_hits =0.0 \n",
        "\n",
        "    for i, p in enumerate(predicted):\n",
        "        if p in actual and p not in predicted[:i]: # 정답이 있고 중복이 아니면\n",
        "            num_hits += 1.0\n",
        "            score += num_hits / (i+1.0)\n",
        "    \n",
        "    if not actual:\n",
        "        return default\n",
        "\n",
        "    return score / min(len(actual),k)   \n",
        "\n",
        "def mapk(actual, predicted, k=7, default=0.0):\n",
        "    return np.mean([apk(a,p,k,default) for a,p in zip(actual,predicted)]) # 고객별 apk 평균"
      ],
      "execution_count": 0,
      "outputs": []
    },
    {
      "cell_type": "code",
      "metadata": {
        "id": "0-umpKyeLbXR",
        "colab_type": "code",
        "colab": {}
      },
      "source": [
        "# 검증데이터의 MAP@7 최고점 : 0.042663\n",
        "print(mapk(add_vld_list,add_vld_list))"
      ],
      "execution_count": 0,
      "outputs": []
    },
    {
      "cell_type": "code",
      "metadata": {
        "id": "YjO8CNpeccgo",
        "colab_type": "code",
        "colab": {}
      },
      "source": [
        "# 검증데이터에 대한 예측값\n",
        "X_vld = vld.as_matrix(columns=features)\n",
        "Y_vld = vld.as_matrix(columns=['y'])\n",
        "dvld = xgb.DMatrix(X_vld, label=Y_vld, feature_names=features)\n",
        "preds_vld = model.predict(dvld, ntree_limit=best_ntree_limit)"
      ],
      "execution_count": 0,
      "outputs": []
    },
    {
      "cell_type": "code",
      "metadata": {
        "id": "nxZPfckIdKgc",
        "colab_type": "code",
        "colab": {}
      },
      "source": [
        "preds_vld # 확률"
      ],
      "execution_count": 0,
      "outputs": []
    },
    {
      "cell_type": "code",
      "metadata": {
        "id": "FIDLwvKwcgl4",
        "colab_type": "code",
        "colab": {}
      },
      "source": [
        "# 신규 구매라고 예측하였으나 한달 전 (이미) 구매한 제품은 제외해야함\n",
        "# 이 경우 prods_vld 확률에서 1 뺄셈\n",
        "preds_vld = preds_vld - vld.as_matrix(columns=[prod+'_prev' for prod in prods])"
      ],
      "execution_count": 0,
      "outputs": []
    },
    {
      "cell_type": "code",
      "metadata": {
        "id": "EjlkUAWKdtBS",
        "colab_type": "code",
        "colab": {}
      },
      "source": [
        "# 참고\n",
        "list(zip([1,2,3],['a','b','c']))"
      ],
      "execution_count": 0,
      "outputs": []
    },
    {
      "cell_type": "code",
      "metadata": {
        "id": "IhZu0VsxdOBV",
        "colab_type": "code",
        "colab": {}
      },
      "source": [
        "# 검증 데이터 예측 상위 7개 추출\n",
        "result_vld = []\n",
        "for ncodper, pred in zip(ncodpers_vld, preds_vld):\n",
        "    y_prods = [(y,p,ip) for y,p,ip in zip(pred, prods,range(len(prods)))]\n",
        "    y_prods = sorted(y_prods, key=lambda a: a[0], reverse=True)[:7]\n",
        "    result_vld.append([ip for y,p,ip in y_prods])\n",
        "\n",
        "print(mapk(add_vld_list, result_vld))"
      ],
      "execution_count": 0,
      "outputs": []
    },
    {
      "cell_type": "markdown",
      "metadata": {
        "id": "DB5mkA3zgcxq",
        "colab_type": "text"
      },
      "source": [
        "Baseline 모델 정확도 = 검증데이터 MAP@7 / 검증데이터 최고 점수 \n",
        "\n",
        ": 어떻게 판단하는것일까? "
      ]
    },
    {
      "cell_type": "code",
      "metadata": {
        "id": "VyGm3dsegZOL",
        "colab_type": "code",
        "colab": {}
      },
      "source": [
        "0.036466 / 0.042663 #85%"
      ],
      "execution_count": 0,
      "outputs": []
    },
    {
      "cell_type": "code",
      "metadata": {
        "id": "rsIVzey7en_g",
        "colab_type": "code",
        "colab": {}
      },
      "source": [
        "# 위 코드 예시\n",
        "ncodper = ncodpers_vld[0]\n",
        "pred = preds_vld[0]\n",
        "y_prods = list(zip(pred, prods, range(len(prods))))\n",
        "y_prods # 확률, 상품명, 상품번호"
      ],
      "execution_count": 0,
      "outputs": []
    },
    {
      "cell_type": "code",
      "metadata": {
        "id": "Gg9K1Y_EfR6g",
        "colab_type": "code",
        "colab": {}
      },
      "source": [
        "sorted(y_prods, key=lambda a: a[0], reverse=True)[:7] # pred 기준으로 확률 내림차순, 상위 7개"
      ],
      "execution_count": 0,
      "outputs": []
    },
    {
      "cell_type": "code",
      "metadata": {
        "id": "rHWhkX3Nf0MS",
        "colab_type": "code",
        "colab": {}
      },
      "source": [
        "result_vld[0:5] # 예측된 상품 번호"
      ],
      "execution_count": 0,
      "outputs": []
    },
    {
      "cell_type": "markdown",
      "metadata": {
        "id": "jCoUhmcNmHSJ",
        "colab_type": "text"
      },
      "source": [
        "### 4. 전체 데이터 학습 및 테스트 데이터 예측"
      ]
    },
    {
      "cell_type": "code",
      "metadata": {
        "id": "3lHPLQY1l2MK",
        "colab_type": "code",
        "colab": {}
      },
      "source": [
        "X_all = XY.as_matrix(columns=features)\n",
        "Y_all = XY.as_matrix(columns=['y'])\n",
        "dall = xgb.DMatrix(X_all, label=Y_all, feature_names=features)\n",
        "watch_list = [(dall, 'train')]\n",
        "# 트리 개수는 늘어난 데이터 양 만큼 비례해서 증가\n",
        "best_ntree_limit = int(best_ntree_limit * (len(XY_trn)+len(XY_vld))/len(XY_trn))\n",
        "# 재학습\n",
        "model = xgb.train(param, dall, num_boost_round=best_ntree_limit, evals=watch_list) # 엄청 오래걸리네 ..."
      ],
      "execution_count": 0,
      "outputs": []
    },
    {
      "cell_type": "code",
      "metadata": {
        "colab_type": "code",
        "id": "zvJ0dTcVDlV8",
        "colab": {}
      },
      "source": [
        "# 모델 저장\n",
        "filename = 'xgb.baseline.all.pkl'\n",
        "pickle.dump(model, open(filename,'wb'))"
      ],
      "execution_count": 0,
      "outputs": []
    },
    {
      "cell_type": "code",
      "metadata": {
        "id": "IRreN2tMnO9F",
        "colab_type": "code",
        "colab": {}
      },
      "source": [
        "# 참고\n",
        "model.get_fscore().items()"
      ],
      "execution_count": 0,
      "outputs": []
    },
    {
      "cell_type": "code",
      "metadata": {
        "id": "t_P03SBU91jQ",
        "colab_type": "code",
        "colab": {}
      },
      "source": [
        "[(k,v) for k,v in model.get_fscore().items()]"
      ],
      "execution_count": 0,
      "outputs": []
    },
    {
      "cell_type": "code",
      "metadata": {
        "id": "hzI-Tb3_m5W9",
        "colab_type": "code",
        "colab": {}
      },
      "source": [
        "# 변수중요도 - EDA 결과와 비교해볼것\n",
        "print(\"Feature importance:\")\n",
        "for kv in sorted([(k,v) for k,v in model.get_fscore().items()], key=lambda kv: kv[1], reverse=True):\n",
        "    print(kv)"
      ],
      "execution_count": 0,
      "outputs": []
    },
    {
      "cell_type": "code",
      "metadata": {
        "id": "5EEUFXUd_26M",
        "colab_type": "code",
        "colab": {}
      },
      "source": [
        "# 테스트 데이터 예측 값\n",
        "X_tst = tst.as_matrix(columns=features)\n",
        "dtst = xgb.DMatrix(X_tst, feature_names=features)\n",
        "preds_tst = model.predict(dtst, ntree_limit=best_ntree_limit)\n",
        "ncodpers_tst = tst.as_matrix(columns=['ncodpers']) # 왜 필요하지?\n",
        "preds_tst = preds_tst - tst.as_matrix(columns=[prod + '_prev' for prod in prods]) # 지난 달에 구입한 상품인 경우 방지\n"
      ],
      "execution_count": 0,
      "outputs": []
    },
    {
      "cell_type": "code",
      "metadata": {
        "id": "8bbjK1DP_x22",
        "colab_type": "code",
        "colab": {}
      },
      "source": [
        "# 제출 파일 생성\n",
        "submit_file = open('../xgb.baseline.2015-06-28', 'w')\n",
        "submit_file.write('ncodpers,added_products\\n')\n",
        "for ncodper, pred in zip(ncodpers_tst, preds_tst):\n",
        "    y_prods = [(y,p,ip) for y,p,ip in zip(pred, prods, range(len(prods)))]\n",
        "    y_prods = sorted(y_prods, key=lambda a: a[0], reverse=True)[:7]\n",
        "    y_prods = [p for y,p,ip in y_prods]\n",
        "    submit_file.write('{},{}\\n'.format(int(ncodper), ' '.join(y_prods)))"
      ],
      "execution_count": 0,
      "outputs": []
    }
  ]
}
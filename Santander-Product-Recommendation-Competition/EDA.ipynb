{
  "nbformat": 4,
  "nbformat_minor": 0,
  "metadata": {
    "kernelspec": {
      "display_name": "santander",
      "language": "python",
      "name": "santander"
    },
    "language_info": {
      "codemirror_mode": {
        "name": "ipython",
        "version": 3
      },
      "file_extension": ".py",
      "mimetype": "text/x-python",
      "name": "python",
      "nbconvert_exporter": "python",
      "pygments_lexer": "ipython3",
      "version": "3.7.6"
    },
    "colab": {
      "name": "EDA",
      "provenance": [],
      "collapsed_sections": [],
      "toc_visible": true,
      "include_colab_link": true
    }
  },
  "cells": [
    {
      "cell_type": "markdown",
      "metadata": {
        "id": "view-in-github",
        "colab_type": "text"
      },
      "source": [
        "<a href=\"https://colab.research.google.com/github/12jeong/Kaggle-beginner/blob/master/Santander-Product-Recommendation-Competition/EDA.ipynb\" target=\"_parent\"><img src=\"https://colab.research.google.com/assets/colab-badge.svg\" alt=\"Open In Colab\"/></a>"
      ]
    },
    {
      "cell_type": "code",
      "metadata": {
        "id": "0KrRAJtuWVst",
        "colab_type": "code",
        "colab": {}
      },
      "source": [
        "from tensorflow.python.client import device_lib\n",
        "import platform"
      ],
      "execution_count": 0,
      "outputs": []
    },
    {
      "cell_type": "code",
      "metadata": {
        "id": "8I2im7WmWeCg",
        "colab_type": "code",
        "colab": {
          "base_uri": "https://localhost:8080/",
          "height": 125
        },
        "outputId": "bc1bed94-c5bd-4cef-bb4e-97206364dee1"
      },
      "source": [
        "from google.colab import drive\n",
        "drive.mount('/content/drive/')"
      ],
      "execution_count": 9,
      "outputs": [
        {
          "output_type": "stream",
          "text": [
            "Go to this URL in a browser: https://accounts.google.com/o/oauth2/auth?client_id=947318989803-6bn6qk8qdgf4n4g3pfee6491hc0brc4i.apps.googleusercontent.com&redirect_uri=urn%3aietf%3awg%3aoauth%3a2.0%3aoob&response_type=code&scope=email%20https%3a%2f%2fwww.googleapis.com%2fauth%2fdocs.test%20https%3a%2f%2fwww.googleapis.com%2fauth%2fdrive%20https%3a%2f%2fwww.googleapis.com%2fauth%2fdrive.photos.readonly%20https%3a%2f%2fwww.googleapis.com%2fauth%2fpeopleapi.readonly\n",
            "\n",
            "Enter your authorization code:\n",
            "··········\n",
            "Mounted at /content/drive/\n"
          ],
          "name": "stdout"
        }
      ]
    },
    {
      "cell_type": "code",
      "metadata": {
        "id": "XrOu-UyRWkW4",
        "colab_type": "code",
        "colab": {
          "resources": {
            "http://localhost:8080/nbextensions/google.colab/files.js": {
              "data": "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",
              "ok": true,
              "headers": [
                [
                  "content-type",
                  "application/javascript"
                ]
              ],
              "status": 200,
              "status_text": ""
            }
          },
          "base_uri": "https://localhost:8080/",
          "height": 289
        },
        "outputId": "822902e0-2272-4c6d-84f4-0a9cb106e0a0"
      },
      "source": [
        "!pip install kaggle\n",
        "from google.colab import files\n",
        "files.upload()"
      ],
      "execution_count": 10,
      "outputs": [
        {
          "output_type": "stream",
          "text": [
            "Requirement already satisfied: kaggle in /usr/local/lib/python3.6/dist-packages (1.5.6)\n",
            "Requirement already satisfied: python-slugify in /usr/local/lib/python3.6/dist-packages (from kaggle) (4.0.0)\n",
            "Requirement already satisfied: certifi in /usr/local/lib/python3.6/dist-packages (from kaggle) (2019.11.28)\n",
            "Requirement already satisfied: tqdm in /usr/local/lib/python3.6/dist-packages (from kaggle) (4.28.1)\n",
            "Requirement already satisfied: urllib3<1.25,>=1.21.1 in /usr/local/lib/python3.6/dist-packages (from kaggle) (1.24.3)\n",
            "Requirement already satisfied: requests in /usr/local/lib/python3.6/dist-packages (from kaggle) (2.21.0)\n",
            "Requirement already satisfied: six>=1.10 in /usr/local/lib/python3.6/dist-packages (from kaggle) (1.12.0)\n",
            "Requirement already satisfied: python-dateutil in /usr/local/lib/python3.6/dist-packages (from kaggle) (2.6.1)\n",
            "Requirement already satisfied: text-unidecode>=1.3 in /usr/local/lib/python3.6/dist-packages (from python-slugify->kaggle) (1.3)\n",
            "Requirement already satisfied: idna<2.9,>=2.5 in /usr/local/lib/python3.6/dist-packages (from requests->kaggle) (2.8)\n",
            "Requirement already satisfied: chardet<3.1.0,>=3.0.2 in /usr/local/lib/python3.6/dist-packages (from requests->kaggle) (3.0.4)\n"
          ],
          "name": "stdout"
        },
        {
          "output_type": "display_data",
          "data": {
            "text/html": [
              "\n",
              "     <input type=\"file\" id=\"files-54948dd0-e7b3-4aef-8a72-93a24cdf0c24\" name=\"files[]\" multiple disabled />\n",
              "     <output id=\"result-54948dd0-e7b3-4aef-8a72-93a24cdf0c24\">\n",
              "      Upload widget is only available when the cell has been executed in the\n",
              "      current browser session. Please rerun this cell to enable.\n",
              "      </output>\n",
              "      <script src=\"/nbextensions/google.colab/files.js\"></script> "
            ],
            "text/plain": [
              "<IPython.core.display.HTML object>"
            ]
          },
          "metadata": {
            "tags": []
          }
        },
        {
          "output_type": "stream",
          "text": [
            "Saving kaggle.json to kaggle.json\n"
          ],
          "name": "stdout"
        },
        {
          "output_type": "execute_result",
          "data": {
            "text/plain": [
              "{'kaggle.json': b'{\"username\":\"hani2jeong\",\"key\":\"b43ded16416c0cf251f7b0ab22703ac7\"}'}"
            ]
          },
          "metadata": {
            "tags": []
          },
          "execution_count": 10
        }
      ]
    },
    {
      "cell_type": "code",
      "metadata": {
        "id": "KlG56tUpWtF-",
        "colab_type": "code",
        "colab": {
          "base_uri": "https://localhost:8080/",
          "height": 34
        },
        "outputId": "d09c9756-81eb-4e28-8e9d-b3d2c3eeeb98"
      },
      "source": [
        "ls -1ha kaggle.json"
      ],
      "execution_count": 11,
      "outputs": [
        {
          "output_type": "stream",
          "text": [
            "kaggle.json\n"
          ],
          "name": "stdout"
        }
      ]
    },
    {
      "cell_type": "code",
      "metadata": {
        "id": "5V1b56ZDWuZz",
        "colab_type": "code",
        "colab": {
          "base_uri": "https://localhost:8080/",
          "height": 422
        },
        "outputId": "a102b1ce-4e1d-4b78-e0ce-b873303531cb"
      },
      "source": [
        "!mkdir -p ~/.kaggle\n",
        "!cp kaggle.json ~/.kaggle/\n",
        "# Permission Warning 이 일어나지 않도록 \n",
        "!chmod 600 ~/.kaggle/kaggle.json\n",
        "# 본인이 참가한 모든 대회 보기 \n",
        "!kaggle competitions list"
      ],
      "execution_count": 12,
      "outputs": [
        {
          "output_type": "stream",
          "text": [
            "Warning: Looks like you're using an outdated API Version, please consider updating (server 1.5.6 / client 1.5.4)\n",
            "ref                                            deadline             category             reward  teamCount  userHasEntered  \n",
            "---------------------------------------------  -------------------  ---------------  ----------  ---------  --------------  \n",
            "digit-recognizer                               2030-01-01 00:00:00  Getting Started   Knowledge       2369           False  \n",
            "titanic                                        2030-01-01 00:00:00  Getting Started   Knowledge      15891            True  \n",
            "house-prices-advanced-regression-techniques    2030-01-01 00:00:00  Getting Started   Knowledge       5038           False  \n",
            "connectx                                       2030-01-01 00:00:00  Getting Started   Knowledge        397           False  \n",
            "imagenet-object-localization-challenge         2029-12-31 07:00:00  Research          Knowledge         64           False  \n",
            "competitive-data-science-predict-future-sales  2020-12-31 23:59:00  Playground            Kudos       5630           False  \n",
            "deepfake-detection-challenge                   2020-03-31 23:59:00  Featured         $1,000,000       1491           False  \n",
            "cat-in-the-dat-ii                              2020-03-31 23:59:00  Playground             Swag        471           False  \n",
            "nlp-getting-started                            2020-03-23 23:59:00  Getting Started     $10,000       2450           False  \n",
            "bengaliai-cv19                                 2020-03-16 23:59:00  Research            $10,000       1067           False  \n",
            "google-quest-challenge                         2020-02-10 23:59:00  Featured            $25,000       1468           False  \n",
            "tensorflow2-question-answering                 2020-01-22 23:59:00  Featured            $50,000       1233           False  \n",
            "data-science-bowl-2019                         2020-01-22 23:59:00  Featured           $160,000       3497           False  \n",
            "pku-autonomous-driving                         2020-01-21 23:59:00  Featured            $25,000        866           False  \n",
            "santa-2019-revenge-of-the-accountants          2020-01-16 23:59:00  Playground             Swag        106           False  \n",
            "santa-workshop-tour-2019                       2020-01-15 23:59:00  Featured            $25,000       1620           False  \n",
            "nfl-big-data-bowl-2020                         2020-01-06 23:59:00  Featured            $75,000       2038           False  \n",
            "nfl-playing-surface-analytics                  2020-01-02 23:59:00  Analytics           $75,000          0           False  \n",
            "ashrae-energy-prediction                       2019-12-19 23:59:00  Featured            $25,000       3614           False  \n",
            "Kannada-MNIST                                  2019-12-17 23:59:00  Playground        Knowledge       1214           False  \n"
          ],
          "name": "stdout"
        }
      ]
    },
    {
      "cell_type": "code",
      "metadata": {
        "id": "IVQry0pSWwiq",
        "colab_type": "code",
        "colab": {
          "base_uri": "https://localhost:8080/",
          "height": 193
        },
        "outputId": "60b6a2c5-1eae-4eda-806d-c5a9b5ac3f04"
      },
      "source": [
        "! kaggle competitions download -c santander-product-recommendation "
      ],
      "execution_count": 13,
      "outputs": [
        {
          "output_type": "stream",
          "text": [
            "Warning: Looks like you're using an outdated API Version, please consider updating (server 1.5.6 / client 1.5.4)\n",
            "Downloading test_ver2.csv.zip to /content\n",
            " 40% 5.00M/12.4M [00:00<00:00, 19.5MB/s]\n",
            "100% 12.4M/12.4M [00:00<00:00, 41.4MB/s]\n",
            "Downloading train_ver2.csv.zip to /content\n",
            " 96% 206M/214M [00:04<00:00, 46.9MB/s]\n",
            "100% 214M/214M [00:04<00:00, 53.8MB/s]\n",
            "Downloading sample_submission.csv.zip to /content\n",
            "  0% 0.00/2.28M [00:00<?, ?B/s]\n",
            "100% 2.28M/2.28M [00:00<00:00, 152MB/s]\n"
          ],
          "name": "stdout"
        }
      ]
    },
    {
      "cell_type": "code",
      "metadata": {
        "id": "lCCXBZOAWz7W",
        "colab_type": "code",
        "colab": {
          "base_uri": "https://localhost:8080/",
          "height": 87
        },
        "outputId": "46db9db1-be89-4cea-a8fc-d2469ddac36f"
      },
      "source": [
        "!unzip train_ver2.csv.zip\n",
        "!unzip test_ver2.csv.zip"
      ],
      "execution_count": 14,
      "outputs": [
        {
          "output_type": "stream",
          "text": [
            "Archive:  train_ver2.csv.zip\n",
            "  inflating: train_ver2.csv          \n",
            "Archive:  test_ver2.csv.zip\n",
            "  inflating: test_ver2.csv           \n"
          ],
          "name": "stdout"
        }
      ]
    },
    {
      "cell_type": "code",
      "metadata": {
        "id": "HWTJlH3bW5-X",
        "colab_type": "code",
        "colab": {}
      },
      "source": [
        "import pandas as pd\n",
        "import numpy as np\n",
        "import matplotlib\n",
        "import matplotlib.pyplot as plt\n",
        "# For Jupyter Notebook\n",
        "%matplotlib inline\n",
        "import seaborn as sns"
      ],
      "execution_count": 0,
      "outputs": []
    },
    {
      "cell_type": "code",
      "metadata": {
        "id": "qfOmQiDdW7ql",
        "colab_type": "code",
        "colab": {
          "base_uri": "https://localhost:8080/",
          "height": 72
        },
        "outputId": "00e6af72-8790-411a-e272-e4eac835621f"
      },
      "source": [
        "trn = pd.read_csv('train_ver2.csv')"
      ],
      "execution_count": 17,
      "outputs": [
        {
          "output_type": "stream",
          "text": [
            "/usr/local/lib/python3.6/dist-packages/IPython/core/interactiveshell.py:2718: DtypeWarning: Columns (5,8,11,15) have mixed types. Specify dtype option on import or set low_memory=False.\n",
            "  interactivity=interactivity, compiler=compiler, result=result)\n"
          ],
          "name": "stderr"
        }
      ]
    },
    {
      "cell_type": "markdown",
      "metadata": {
        "id": "fP7p4SPUUvZC",
        "colab_type": "text"
      },
      "source": [
        "#### 분석 목표 : 자사의 고객들을 대상으로 고객 맞춤형 상품 추천을 제공\n",
        "- 고객의 과거 이력과 유사한 고객군들의 데이터를 기반으로 다음달에 해당 고객이 무슨 상품을 사용할지 예측\n",
        "- 고객의 만족도를 높임과 동시에 은행 매출에 기여"
      ]
    },
    {
      "cell_type": "code",
      "metadata": {
        "id": "evfzYL5MUvZn",
        "colab_type": "code",
        "outputId": "7da5f3c9-f053-4a96-c32c-cf787e507f0e",
        "colab": {
          "base_uri": "https://localhost:8080/",
          "height": 34
        }
      },
      "source": [
        "trn.shape"
      ],
      "execution_count": 18,
      "outputs": [
        {
          "output_type": "execute_result",
          "data": {
            "text/plain": [
              "(13647309, 48)"
            ]
          },
          "metadata": {
            "tags": []
          },
          "execution_count": 18
        }
      ]
    },
    {
      "cell_type": "code",
      "metadata": {
        "id": "GaelcSaFUvZ4",
        "colab_type": "code",
        "outputId": "194cae8d-1545-4f1a-f687-eb4b22ac1c8c",
        "colab": {}
      },
      "source": [
        "trn.head()"
      ],
      "execution_count": 0,
      "outputs": [
        {
          "output_type": "execute_result",
          "data": {
            "text/html": [
              "<div>\n",
              "<style scoped>\n",
              "    .dataframe tbody tr th:only-of-type {\n",
              "        vertical-align: middle;\n",
              "    }\n",
              "\n",
              "    .dataframe tbody tr th {\n",
              "        vertical-align: top;\n",
              "    }\n",
              "\n",
              "    .dataframe thead th {\n",
              "        text-align: right;\n",
              "    }\n",
              "</style>\n",
              "<table border=\"1\" class=\"dataframe\">\n",
              "  <thead>\n",
              "    <tr style=\"text-align: right;\">\n",
              "      <th></th>\n",
              "      <th>fecha_dato</th>\n",
              "      <th>ncodpers</th>\n",
              "      <th>ind_empleado</th>\n",
              "      <th>pais_residencia</th>\n",
              "      <th>sexo</th>\n",
              "      <th>age</th>\n",
              "      <th>fecha_alta</th>\n",
              "      <th>ind_nuevo</th>\n",
              "      <th>antiguedad</th>\n",
              "      <th>indrel</th>\n",
              "      <th>...</th>\n",
              "      <th>ind_hip_fin_ult1</th>\n",
              "      <th>ind_plan_fin_ult1</th>\n",
              "      <th>ind_pres_fin_ult1</th>\n",
              "      <th>ind_reca_fin_ult1</th>\n",
              "      <th>ind_tjcr_fin_ult1</th>\n",
              "      <th>ind_valo_fin_ult1</th>\n",
              "      <th>ind_viv_fin_ult1</th>\n",
              "      <th>ind_nomina_ult1</th>\n",
              "      <th>ind_nom_pens_ult1</th>\n",
              "      <th>ind_recibo_ult1</th>\n",
              "    </tr>\n",
              "  </thead>\n",
              "  <tbody>\n",
              "    <tr>\n",
              "      <th>0</th>\n",
              "      <td>2015-01-28</td>\n",
              "      <td>1375586</td>\n",
              "      <td>N</td>\n",
              "      <td>ES</td>\n",
              "      <td>H</td>\n",
              "      <td>35</td>\n",
              "      <td>2015-01-12</td>\n",
              "      <td>0.0</td>\n",
              "      <td>6</td>\n",
              "      <td>1.0</td>\n",
              "      <td>...</td>\n",
              "      <td>0</td>\n",
              "      <td>0</td>\n",
              "      <td>0</td>\n",
              "      <td>0</td>\n",
              "      <td>0</td>\n",
              "      <td>0</td>\n",
              "      <td>0</td>\n",
              "      <td>0.0</td>\n",
              "      <td>0.0</td>\n",
              "      <td>0</td>\n",
              "    </tr>\n",
              "    <tr>\n",
              "      <th>1</th>\n",
              "      <td>2015-01-28</td>\n",
              "      <td>1050611</td>\n",
              "      <td>N</td>\n",
              "      <td>ES</td>\n",
              "      <td>V</td>\n",
              "      <td>23</td>\n",
              "      <td>2012-08-10</td>\n",
              "      <td>0.0</td>\n",
              "      <td>35</td>\n",
              "      <td>1.0</td>\n",
              "      <td>...</td>\n",
              "      <td>0</td>\n",
              "      <td>0</td>\n",
              "      <td>0</td>\n",
              "      <td>0</td>\n",
              "      <td>0</td>\n",
              "      <td>0</td>\n",
              "      <td>0</td>\n",
              "      <td>0.0</td>\n",
              "      <td>0.0</td>\n",
              "      <td>0</td>\n",
              "    </tr>\n",
              "    <tr>\n",
              "      <th>2</th>\n",
              "      <td>2015-01-28</td>\n",
              "      <td>1050612</td>\n",
              "      <td>N</td>\n",
              "      <td>ES</td>\n",
              "      <td>V</td>\n",
              "      <td>23</td>\n",
              "      <td>2012-08-10</td>\n",
              "      <td>0.0</td>\n",
              "      <td>35</td>\n",
              "      <td>1.0</td>\n",
              "      <td>...</td>\n",
              "      <td>0</td>\n",
              "      <td>0</td>\n",
              "      <td>0</td>\n",
              "      <td>0</td>\n",
              "      <td>0</td>\n",
              "      <td>0</td>\n",
              "      <td>0</td>\n",
              "      <td>0.0</td>\n",
              "      <td>0.0</td>\n",
              "      <td>0</td>\n",
              "    </tr>\n",
              "    <tr>\n",
              "      <th>3</th>\n",
              "      <td>2015-01-28</td>\n",
              "      <td>1050613</td>\n",
              "      <td>N</td>\n",
              "      <td>ES</td>\n",
              "      <td>H</td>\n",
              "      <td>22</td>\n",
              "      <td>2012-08-10</td>\n",
              "      <td>0.0</td>\n",
              "      <td>35</td>\n",
              "      <td>1.0</td>\n",
              "      <td>...</td>\n",
              "      <td>0</td>\n",
              "      <td>0</td>\n",
              "      <td>0</td>\n",
              "      <td>0</td>\n",
              "      <td>0</td>\n",
              "      <td>0</td>\n",
              "      <td>0</td>\n",
              "      <td>0.0</td>\n",
              "      <td>0.0</td>\n",
              "      <td>0</td>\n",
              "    </tr>\n",
              "    <tr>\n",
              "      <th>4</th>\n",
              "      <td>2015-01-28</td>\n",
              "      <td>1050614</td>\n",
              "      <td>N</td>\n",
              "      <td>ES</td>\n",
              "      <td>V</td>\n",
              "      <td>23</td>\n",
              "      <td>2012-08-10</td>\n",
              "      <td>0.0</td>\n",
              "      <td>35</td>\n",
              "      <td>1.0</td>\n",
              "      <td>...</td>\n",
              "      <td>0</td>\n",
              "      <td>0</td>\n",
              "      <td>0</td>\n",
              "      <td>0</td>\n",
              "      <td>0</td>\n",
              "      <td>0</td>\n",
              "      <td>0</td>\n",
              "      <td>0.0</td>\n",
              "      <td>0.0</td>\n",
              "      <td>0</td>\n",
              "    </tr>\n",
              "  </tbody>\n",
              "</table>\n",
              "<p>5 rows × 48 columns</p>\n",
              "</div>"
            ],
            "text/plain": [
              "   fecha_dato  ncodpers ind_empleado pais_residencia sexo  age  fecha_alta  \\\n",
              "0  2015-01-28   1375586            N              ES    H   35  2015-01-12   \n",
              "1  2015-01-28   1050611            N              ES    V   23  2012-08-10   \n",
              "2  2015-01-28   1050612            N              ES    V   23  2012-08-10   \n",
              "3  2015-01-28   1050613            N              ES    H   22  2012-08-10   \n",
              "4  2015-01-28   1050614            N              ES    V   23  2012-08-10   \n",
              "\n",
              "   ind_nuevo antiguedad  indrel  ... ind_hip_fin_ult1 ind_plan_fin_ult1  \\\n",
              "0        0.0          6     1.0  ...                0                 0   \n",
              "1        0.0         35     1.0  ...                0                 0   \n",
              "2        0.0         35     1.0  ...                0                 0   \n",
              "3        0.0         35     1.0  ...                0                 0   \n",
              "4        0.0         35     1.0  ...                0                 0   \n",
              "\n",
              "  ind_pres_fin_ult1 ind_reca_fin_ult1 ind_tjcr_fin_ult1 ind_valo_fin_ult1  \\\n",
              "0                 0                 0                 0                 0   \n",
              "1                 0                 0                 0                 0   \n",
              "2                 0                 0                 0                 0   \n",
              "3                 0                 0                 0                 0   \n",
              "4                 0                 0                 0                 0   \n",
              "\n",
              "  ind_viv_fin_ult1 ind_nomina_ult1  ind_nom_pens_ult1  ind_recibo_ult1  \n",
              "0                0             0.0                0.0                0  \n",
              "1                0             0.0                0.0                0  \n",
              "2                0             0.0                0.0                0  \n",
              "3                0             0.0                0.0                0  \n",
              "4                0             0.0                0.0                0  \n",
              "\n",
              "[5 rows x 48 columns]"
            ]
          },
          "metadata": {
            "tags": []
          },
          "execution_count": 16
        }
      ]
    },
    {
      "cell_type": "code",
      "metadata": {
        "id": "MqTay-wCUvaK",
        "colab_type": "code",
        "outputId": "e1078e07-5176-497e-86a5-6dbe6f3df0fa",
        "colab": {}
      },
      "source": [
        "for col in trn.columns :\n",
        "    print('{}\\n'.format(trn[col].head()))"
      ],
      "execution_count": 0,
      "outputs": [
        {
          "output_type": "stream",
          "text": [
            "0    2015-01-28\n",
            "1    2015-01-28\n",
            "2    2015-01-28\n",
            "3    2015-01-28\n",
            "4    2015-01-28\n",
            "Name: fecha_dato, dtype: object\n",
            "\n",
            "0    1375586\n",
            "1    1050611\n",
            "2    1050612\n",
            "3    1050613\n",
            "4    1050614\n",
            "Name: ncodpers, dtype: int64\n",
            "\n",
            "0    N\n",
            "1    N\n",
            "2    N\n",
            "3    N\n",
            "4    N\n",
            "Name: ind_empleado, dtype: object\n",
            "\n",
            "0    ES\n",
            "1    ES\n",
            "2    ES\n",
            "3    ES\n",
            "4    ES\n",
            "Name: pais_residencia, dtype: object\n",
            "\n",
            "0    H\n",
            "1    V\n",
            "2    V\n",
            "3    H\n",
            "4    V\n",
            "Name: sexo, dtype: object\n",
            "\n",
            "0     35\n",
            "1     23\n",
            "2     23\n",
            "3     22\n",
            "4     23\n",
            "Name: age, dtype: object\n",
            "\n",
            "0    2015-01-12\n",
            "1    2012-08-10\n",
            "2    2012-08-10\n",
            "3    2012-08-10\n",
            "4    2012-08-10\n",
            "Name: fecha_alta, dtype: object\n",
            "\n",
            "0    0.0\n",
            "1    0.0\n",
            "2    0.0\n",
            "3    0.0\n",
            "4    0.0\n",
            "Name: ind_nuevo, dtype: float64\n",
            "\n",
            "0          6\n",
            "1         35\n",
            "2         35\n",
            "3         35\n",
            "4         35\n",
            "Name: antiguedad, dtype: object\n",
            "\n",
            "0    1.0\n",
            "1    1.0\n",
            "2    1.0\n",
            "3    1.0\n",
            "4    1.0\n",
            "Name: indrel, dtype: float64\n",
            "\n",
            "0    NaN\n",
            "1    NaN\n",
            "2    NaN\n",
            "3    NaN\n",
            "4    NaN\n",
            "Name: ult_fec_cli_1t, dtype: object\n",
            "\n",
            "0    1\n",
            "1    1\n",
            "2    1\n",
            "3    1\n",
            "4    1\n",
            "Name: indrel_1mes, dtype: object\n",
            "\n",
            "0    A\n",
            "1    I\n",
            "2    I\n",
            "3    I\n",
            "4    A\n",
            "Name: tiprel_1mes, dtype: object\n",
            "\n",
            "0    S\n",
            "1    S\n",
            "2    S\n",
            "3    S\n",
            "4    S\n",
            "Name: indresi, dtype: object\n",
            "\n",
            "0    N\n",
            "1    S\n",
            "2    N\n",
            "3    N\n",
            "4    N\n",
            "Name: indext, dtype: object\n",
            "\n",
            "0    NaN\n",
            "1    NaN\n",
            "2    NaN\n",
            "3    NaN\n",
            "4    NaN\n",
            "Name: conyuemp, dtype: object\n",
            "\n",
            "0    KHL\n",
            "1    KHE\n",
            "2    KHE\n",
            "3    KHD\n",
            "4    KHE\n",
            "Name: canal_entrada, dtype: object\n",
            "\n",
            "0    N\n",
            "1    N\n",
            "2    N\n",
            "3    N\n",
            "4    N\n",
            "Name: indfall, dtype: object\n",
            "\n",
            "0    1.0\n",
            "1    1.0\n",
            "2    1.0\n",
            "3    1.0\n",
            "4    1.0\n",
            "Name: tipodom, dtype: float64\n",
            "\n",
            "0    29.0\n",
            "1    13.0\n",
            "2    13.0\n",
            "3    50.0\n",
            "4    50.0\n",
            "Name: cod_prov, dtype: float64\n",
            "\n",
            "0         MALAGA\n",
            "1    CIUDAD REAL\n",
            "2    CIUDAD REAL\n",
            "3       ZARAGOZA\n",
            "4       ZARAGOZA\n",
            "Name: nomprov, dtype: object\n",
            "\n",
            "0    1.0\n",
            "1    0.0\n",
            "2    0.0\n",
            "3    0.0\n",
            "4    1.0\n",
            "Name: ind_actividad_cliente, dtype: float64\n",
            "\n",
            "0     87218.10\n",
            "1     35548.74\n",
            "2    122179.11\n",
            "3    119775.54\n",
            "4          NaN\n",
            "Name: renta, dtype: float64\n",
            "\n",
            "0     02 - PARTICULARES\n",
            "1    03 - UNIVERSITARIO\n",
            "2    03 - UNIVERSITARIO\n",
            "3    03 - UNIVERSITARIO\n",
            "4    03 - UNIVERSITARIO\n",
            "Name: segmento, dtype: object\n",
            "\n",
            "0    0\n",
            "1    0\n",
            "2    0\n",
            "3    0\n",
            "4    0\n",
            "Name: ind_ahor_fin_ult1, dtype: int64\n",
            "\n",
            "0    0\n",
            "1    0\n",
            "2    0\n",
            "3    0\n",
            "4    0\n",
            "Name: ind_aval_fin_ult1, dtype: int64\n",
            "\n",
            "0    1\n",
            "1    1\n",
            "2    1\n",
            "3    0\n",
            "4    1\n",
            "Name: ind_cco_fin_ult1, dtype: int64\n",
            "\n",
            "0    0\n",
            "1    0\n",
            "2    0\n",
            "3    0\n",
            "4    0\n",
            "Name: ind_cder_fin_ult1, dtype: int64\n",
            "\n",
            "0    0\n",
            "1    0\n",
            "2    0\n",
            "3    0\n",
            "4    0\n",
            "Name: ind_cno_fin_ult1, dtype: int64\n",
            "\n",
            "0    0\n",
            "1    0\n",
            "2    0\n",
            "3    0\n",
            "4    0\n",
            "Name: ind_ctju_fin_ult1, dtype: int64\n",
            "\n",
            "0    0\n",
            "1    0\n",
            "2    0\n",
            "3    0\n",
            "4    0\n",
            "Name: ind_ctma_fin_ult1, dtype: int64\n",
            "\n",
            "0    0\n",
            "1    0\n",
            "2    0\n",
            "3    0\n",
            "4    0\n",
            "Name: ind_ctop_fin_ult1, dtype: int64\n",
            "\n",
            "0    0\n",
            "1    0\n",
            "2    0\n",
            "3    0\n",
            "4    0\n",
            "Name: ind_ctpp_fin_ult1, dtype: int64\n",
            "\n",
            "0    0\n",
            "1    0\n",
            "2    0\n",
            "3    1\n",
            "4    0\n",
            "Name: ind_deco_fin_ult1, dtype: int64\n",
            "\n",
            "0    0\n",
            "1    0\n",
            "2    0\n",
            "3    0\n",
            "4    0\n",
            "Name: ind_deme_fin_ult1, dtype: int64\n",
            "\n",
            "0    0\n",
            "1    0\n",
            "2    0\n",
            "3    0\n",
            "4    0\n",
            "Name: ind_dela_fin_ult1, dtype: int64\n",
            "\n",
            "0    0\n",
            "1    0\n",
            "2    0\n",
            "3    0\n",
            "4    0\n",
            "Name: ind_ecue_fin_ult1, dtype: int64\n",
            "\n",
            "0    0\n",
            "1    0\n",
            "2    0\n",
            "3    0\n",
            "4    0\n",
            "Name: ind_fond_fin_ult1, dtype: int64\n",
            "\n",
            "0    0\n",
            "1    0\n",
            "2    0\n",
            "3    0\n",
            "4    0\n",
            "Name: ind_hip_fin_ult1, dtype: int64\n",
            "\n",
            "0    0\n",
            "1    0\n",
            "2    0\n",
            "3    0\n",
            "4    0\n",
            "Name: ind_plan_fin_ult1, dtype: int64\n",
            "\n",
            "0    0\n",
            "1    0\n",
            "2    0\n",
            "3    0\n",
            "4    0\n",
            "Name: ind_pres_fin_ult1, dtype: int64\n",
            "\n",
            "0    0\n",
            "1    0\n",
            "2    0\n",
            "3    0\n",
            "4    0\n",
            "Name: ind_reca_fin_ult1, dtype: int64\n",
            "\n",
            "0    0\n",
            "1    0\n",
            "2    0\n",
            "3    0\n",
            "4    0\n",
            "Name: ind_tjcr_fin_ult1, dtype: int64\n",
            "\n",
            "0    0\n",
            "1    0\n",
            "2    0\n",
            "3    0\n",
            "4    0\n",
            "Name: ind_valo_fin_ult1, dtype: int64\n",
            "\n",
            "0    0\n",
            "1    0\n",
            "2    0\n",
            "3    0\n",
            "4    0\n",
            "Name: ind_viv_fin_ult1, dtype: int64\n",
            "\n",
            "0    0.0\n",
            "1    0.0\n",
            "2    0.0\n",
            "3    0.0\n",
            "4    0.0\n",
            "Name: ind_nomina_ult1, dtype: float64\n",
            "\n",
            "0    0.0\n",
            "1    0.0\n",
            "2    0.0\n",
            "3    0.0\n",
            "4    0.0\n",
            "Name: ind_nom_pens_ult1, dtype: float64\n",
            "\n",
            "0    0\n",
            "1    0\n",
            "2    0\n",
            "3    0\n",
            "4    0\n",
            "Name: ind_recibo_ult1, dtype: int64\n",
            "\n"
          ],
          "name": "stdout"
        }
      ]
    },
    {
      "cell_type": "code",
      "metadata": {
        "id": "xNlgC7lhUvaZ",
        "colab_type": "code",
        "outputId": "192638ae-8d9f-4136-f2bc-591e5b959672",
        "colab": {}
      },
      "source": [
        "trn.info()"
      ],
      "execution_count": 0,
      "outputs": [
        {
          "output_type": "stream",
          "text": [
            "<class 'pandas.core.frame.DataFrame'>\n",
            "RangeIndex: 13647309 entries, 0 to 13647308\n",
            "Data columns (total 48 columns):\n",
            "fecha_dato               object\n",
            "ncodpers                 int64\n",
            "ind_empleado             object\n",
            "pais_residencia          object\n",
            "sexo                     object\n",
            "age                      object\n",
            "fecha_alta               object\n",
            "ind_nuevo                float64\n",
            "antiguedad               object\n",
            "indrel                   float64\n",
            "ult_fec_cli_1t           object\n",
            "indrel_1mes              object\n",
            "tiprel_1mes              object\n",
            "indresi                  object\n",
            "indext                   object\n",
            "conyuemp                 object\n",
            "canal_entrada            object\n",
            "indfall                  object\n",
            "tipodom                  float64\n",
            "cod_prov                 float64\n",
            "nomprov                  object\n",
            "ind_actividad_cliente    float64\n",
            "renta                    float64\n",
            "segmento                 object\n",
            "ind_ahor_fin_ult1        int64\n",
            "ind_aval_fin_ult1        int64\n",
            "ind_cco_fin_ult1         int64\n",
            "ind_cder_fin_ult1        int64\n",
            "ind_cno_fin_ult1         int64\n",
            "ind_ctju_fin_ult1        int64\n",
            "ind_ctma_fin_ult1        int64\n",
            "ind_ctop_fin_ult1        int64\n",
            "ind_ctpp_fin_ult1        int64\n",
            "ind_deco_fin_ult1        int64\n",
            "ind_deme_fin_ult1        int64\n",
            "ind_dela_fin_ult1        int64\n",
            "ind_ecue_fin_ult1        int64\n",
            "ind_fond_fin_ult1        int64\n",
            "ind_hip_fin_ult1         int64\n",
            "ind_plan_fin_ult1        int64\n",
            "ind_pres_fin_ult1        int64\n",
            "ind_reca_fin_ult1        int64\n",
            "ind_tjcr_fin_ult1        int64\n",
            "ind_valo_fin_ult1        int64\n",
            "ind_viv_fin_ult1         int64\n",
            "ind_nomina_ult1          float64\n",
            "ind_nom_pens_ult1        float64\n",
            "ind_recibo_ult1          int64\n",
            "dtypes: float64(8), int64(23), object(17)\n",
            "memory usage: 4.9+ GB\n"
          ],
          "name": "stdout"
        }
      ]
    },
    {
      "cell_type": "markdown",
      "metadata": {
        "id": "oEYSMz_PUvao",
        "colab_type": "text"
      },
      "source": [
        "#### Data Description"
      ]
    },
    {
      "cell_type": "markdown",
      "metadata": {
        "id": "64myA5fXUvau",
        "colab_type": "text"
      },
      "source": [
        "##### Numerical Features (굵은 글씨는 범주 또는 더미변수로 취급 가능)\n",
        "ind~와 관련된 24개의 변수는 은행 상품과 관련된 변수  \n",
        "\n",
        "|변수명|내용|설명|\n",
        "|------|---|---|\n",
        "|ncodpers|Customer code|고객식별번호|\n",
        "|**ind_nuevo**|New customer Index. 1 if the customer registered in the last 6 months.|6개월 이내 신규고객인 경우 1|\n",
        "|**indrel**|1 (First/Primary), 99 (Primary customer during the month but not at the end of the month)|1 중요고객 99 해당 달에 중요고객이지만 월말에 해제됨|\n",
        "|**tipodom**|Addres type. 1, primary address|주소 유형?|\n",
        "|**cod_prov**|Province code (customer's address)|지방 고객 주소 : nomprov과 관련|\n",
        "|**ind_actividad_cliente**|Activity index (1, active customer; 0, inactive customer)|활성고객여부|\n",
        "|renta|Gross income of the household|가계총수입|\n",
        "i**nd_ahor_fin_ult1~ind_recibo_ult1**|Saving Account(예금) Guarantees(보증)  | Current Account(당좌 예금) Derivada Account(파생 상품 계좌)|\n",
        "||Payroll Account(급여 계좌) Junior Account(청소년 계좌) | Más particular Account, particular Account, particular Plus Account(특별 계좌 상품) |\n",
        "||Short-term deposits(단기 예금) Medium-term deposits(중기 예금) Long-term depostits(장기 예금) | e-count(e-계정) Funds(펀드) Pensions(연금)-2종류|\n",
        "||Mortgage(부동산 대출) Loans(대출) Credic Card(신용카드) | Taxes(세금) Securities(증권) Home Account(홈계정) |\n",
        "||Payroll(급여) Deriect Debit(직불카드)\n",
        "\n",
        "##### Categorical Features (표시된 변수는 주의 필요)\n",
        "|변수명|내용|설명|\n",
        "|------|---|---|\n",
        "|<span style=\"color:blue\">fecha_dato</span>|The table is partitioned for this column|날짜|\n",
        "|ind_empleado|Employee index: A active, B ex employed, F filial, N not employee, P pasive|고용지표 A 취업자 B 퇴직or실직 F 자영업? N 실업자|\n",
        "|pais_residencia|Customer's Country residence|고객 거주 국가|\n",
        "|sexo|Customer's sex|고객성별|\n",
        "|<span style=\"color:red\">age</span>|Age|고객나이|\n",
        "|<span style=\"color:blue\">fecha_alta</span>|The date in which the customer became as the first holder of a contract in the bank|고객 첫 거래 날짜|\n",
        "|<span style=\"color:red\">antiguedad</span>|Customer seniority (in months)|고객 연봉xx 거래 누적 기간|\n",
        "|ult_fec_cli_1t|\tLast date as primary customer (if he isn't at the end of the month) | 중요고객 만료날짜|\n",
        "indrel_1mes|\tCustomer type at the beginning of the month ,1 (First/Primary customer), 2 (co-owner ),P (Potential),3 (former primary), 4(former co-owner) | 월초 고객유형 1 2 P 3 4|\n",
        "tiprel_1mes |\tCustomer relation type at the beginning of the month, A (active), I (inactive), P (former customer),R (Potential)| 월초 고객 관계 유형 A I P R | \n",
        "i**ndresi**|\tResidence index (S (Yes) or N (No) if the residence country is the same than the bank country)| 거주지역이 은행과 일치하면 S |\n",
        "|**indext**|\tForeigner index (S (Yes) or N (No) if the customer's birth country is different than the bank country)| 태어난 국적이 은행과 다르면 S|\n",
        "|**conyuemp**|\tSpouse index. 1 if the customer is spouse of an employee | 은행 직원의 배우자면 1|\n",
        "|canal_entrada\t|channel used by the customer to join| 고객 유입채널|\n",
        "|**indfall**\t|Deceased index. N/S| 고객 사망 여부|\n",
        "|nomprov|\tProvince name| 지방 이름 : cod_prov와 관련|\n",
        "|segmento|\tsegmentation: 01 - VIP, 02 - Individuals 03 - college graduated | 고객유형 1 VIP 2 개인 3 대졸자|\n"
      ]
    },
    {
      "cell_type": "code",
      "metadata": {
        "id": "E1x-287dUva0",
        "colab_type": "code",
        "outputId": "def09b92-190b-47c5-d34a-18676db37a9a",
        "colab": {}
      },
      "source": [
        "# 수치형 변수 추출\n",
        "num_cols = [col for col in trn.columns[:24] if trn[col].dtype in ['int64','float64']]\n",
        "trn[num_cols].describe()"
      ],
      "execution_count": 0,
      "outputs": [
        {
          "output_type": "execute_result",
          "data": {
            "text/html": [
              "<div>\n",
              "<style scoped>\n",
              "    .dataframe tbody tr th:only-of-type {\n",
              "        vertical-align: middle;\n",
              "    }\n",
              "\n",
              "    .dataframe tbody tr th {\n",
              "        vertical-align: top;\n",
              "    }\n",
              "\n",
              "    .dataframe thead th {\n",
              "        text-align: right;\n",
              "    }\n",
              "</style>\n",
              "<table border=\"1\" class=\"dataframe\">\n",
              "  <thead>\n",
              "    <tr style=\"text-align: right;\">\n",
              "      <th></th>\n",
              "      <th>ncodpers</th>\n",
              "      <th>ind_nuevo</th>\n",
              "      <th>indrel</th>\n",
              "      <th>tipodom</th>\n",
              "      <th>cod_prov</th>\n",
              "      <th>ind_actividad_cliente</th>\n",
              "      <th>renta</th>\n",
              "    </tr>\n",
              "  </thead>\n",
              "  <tbody>\n",
              "    <tr>\n",
              "      <th>count</th>\n",
              "      <td>1.364731e+07</td>\n",
              "      <td>1.361958e+07</td>\n",
              "      <td>1.361958e+07</td>\n",
              "      <td>13619574.0</td>\n",
              "      <td>1.355372e+07</td>\n",
              "      <td>1.361958e+07</td>\n",
              "      <td>1.085293e+07</td>\n",
              "    </tr>\n",
              "    <tr>\n",
              "      <th>mean</th>\n",
              "      <td>8.349042e+05</td>\n",
              "      <td>5.956184e-02</td>\n",
              "      <td>1.178399e+00</td>\n",
              "      <td>1.0</td>\n",
              "      <td>2.657147e+01</td>\n",
              "      <td>4.578105e-01</td>\n",
              "      <td>1.342543e+05</td>\n",
              "    </tr>\n",
              "    <tr>\n",
              "      <th>std</th>\n",
              "      <td>4.315650e+05</td>\n",
              "      <td>2.366733e-01</td>\n",
              "      <td>4.177469e+00</td>\n",
              "      <td>0.0</td>\n",
              "      <td>1.278402e+01</td>\n",
              "      <td>4.982169e-01</td>\n",
              "      <td>2.306202e+05</td>\n",
              "    </tr>\n",
              "    <tr>\n",
              "      <th>min</th>\n",
              "      <td>1.588900e+04</td>\n",
              "      <td>0.000000e+00</td>\n",
              "      <td>1.000000e+00</td>\n",
              "      <td>1.0</td>\n",
              "      <td>1.000000e+00</td>\n",
              "      <td>0.000000e+00</td>\n",
              "      <td>1.202730e+03</td>\n",
              "    </tr>\n",
              "    <tr>\n",
              "      <th>25%</th>\n",
              "      <td>4.528130e+05</td>\n",
              "      <td>0.000000e+00</td>\n",
              "      <td>1.000000e+00</td>\n",
              "      <td>1.0</td>\n",
              "      <td>1.500000e+01</td>\n",
              "      <td>0.000000e+00</td>\n",
              "      <td>6.871098e+04</td>\n",
              "    </tr>\n",
              "    <tr>\n",
              "      <th>50%</th>\n",
              "      <td>9.318930e+05</td>\n",
              "      <td>0.000000e+00</td>\n",
              "      <td>1.000000e+00</td>\n",
              "      <td>1.0</td>\n",
              "      <td>2.800000e+01</td>\n",
              "      <td>0.000000e+00</td>\n",
              "      <td>1.018500e+05</td>\n",
              "    </tr>\n",
              "    <tr>\n",
              "      <th>75%</th>\n",
              "      <td>1.199286e+06</td>\n",
              "      <td>0.000000e+00</td>\n",
              "      <td>1.000000e+00</td>\n",
              "      <td>1.0</td>\n",
              "      <td>3.500000e+01</td>\n",
              "      <td>1.000000e+00</td>\n",
              "      <td>1.559560e+05</td>\n",
              "    </tr>\n",
              "    <tr>\n",
              "      <th>max</th>\n",
              "      <td>1.553689e+06</td>\n",
              "      <td>1.000000e+00</td>\n",
              "      <td>9.900000e+01</td>\n",
              "      <td>1.0</td>\n",
              "      <td>5.200000e+01</td>\n",
              "      <td>1.000000e+00</td>\n",
              "      <td>2.889440e+07</td>\n",
              "    </tr>\n",
              "  </tbody>\n",
              "</table>\n",
              "</div>"
            ],
            "text/plain": [
              "           ncodpers     ind_nuevo        indrel     tipodom      cod_prov  \\\n",
              "count  1.364731e+07  1.361958e+07  1.361958e+07  13619574.0  1.355372e+07   \n",
              "mean   8.349042e+05  5.956184e-02  1.178399e+00         1.0  2.657147e+01   \n",
              "std    4.315650e+05  2.366733e-01  4.177469e+00         0.0  1.278402e+01   \n",
              "min    1.588900e+04  0.000000e+00  1.000000e+00         1.0  1.000000e+00   \n",
              "25%    4.528130e+05  0.000000e+00  1.000000e+00         1.0  1.500000e+01   \n",
              "50%    9.318930e+05  0.000000e+00  1.000000e+00         1.0  2.800000e+01   \n",
              "75%    1.199286e+06  0.000000e+00  1.000000e+00         1.0  3.500000e+01   \n",
              "max    1.553689e+06  1.000000e+00  9.900000e+01         1.0  5.200000e+01   \n",
              "\n",
              "       ind_actividad_cliente         renta  \n",
              "count           1.361958e+07  1.085293e+07  \n",
              "mean            4.578105e-01  1.342543e+05  \n",
              "std             4.982169e-01  2.306202e+05  \n",
              "min             0.000000e+00  1.202730e+03  \n",
              "25%             0.000000e+00  6.871098e+04  \n",
              "50%             0.000000e+00  1.018500e+05  \n",
              "75%             1.000000e+00  1.559560e+05  \n",
              "max             1.000000e+00  2.889440e+07  "
            ]
          },
          "metadata": {
            "tags": []
          },
          "execution_count": 70
        }
      ]
    },
    {
      "cell_type": "markdown",
      "metadata": {
        "id": "Us-CCPXQUvbI",
        "colab_type": "text"
      },
      "source": [
        "- ind_nuevo : 최대 25%의 고객이 신규고객  \n",
        "- indrel : 최대 25%의 고객이 월말에 중요고객에서 해지됨\n",
        "- ind_actividad_cliente : 최소 50%의 고객이 활성고객"
      ]
    },
    {
      "cell_type": "code",
      "metadata": {
        "id": "STFbiAkEUvbN",
        "colab_type": "code",
        "outputId": "46240a21-f2a4-4ad5-fd86-aab53b98eaa2",
        "colab": {}
      },
      "source": [
        "# 범주형 변수 추출\n",
        "cat_cols = [col for col in trn.columns[:24] if trn[col].dtype in ['object']]\n",
        "trn[cat_cols].describe()"
      ],
      "execution_count": 0,
      "outputs": [
        {
          "output_type": "execute_result",
          "data": {
            "text/html": [
              "<div>\n",
              "<style scoped>\n",
              "    .dataframe tbody tr th:only-of-type {\n",
              "        vertical-align: middle;\n",
              "    }\n",
              "\n",
              "    .dataframe tbody tr th {\n",
              "        vertical-align: top;\n",
              "    }\n",
              "\n",
              "    .dataframe thead th {\n",
              "        text-align: right;\n",
              "    }\n",
              "</style>\n",
              "<table border=\"1\" class=\"dataframe\">\n",
              "  <thead>\n",
              "    <tr style=\"text-align: right;\">\n",
              "      <th></th>\n",
              "      <th>fecha_dato</th>\n",
              "      <th>ind_empleado</th>\n",
              "      <th>pais_residencia</th>\n",
              "      <th>sexo</th>\n",
              "      <th>age</th>\n",
              "      <th>fecha_alta</th>\n",
              "      <th>antiguedad</th>\n",
              "      <th>ult_fec_cli_1t</th>\n",
              "      <th>indrel_1mes</th>\n",
              "      <th>tiprel_1mes</th>\n",
              "      <th>indresi</th>\n",
              "      <th>indext</th>\n",
              "      <th>conyuemp</th>\n",
              "      <th>canal_entrada</th>\n",
              "      <th>indfall</th>\n",
              "      <th>nomprov</th>\n",
              "      <th>segmento</th>\n",
              "    </tr>\n",
              "  </thead>\n",
              "  <tbody>\n",
              "    <tr>\n",
              "      <th>count</th>\n",
              "      <td>13647309</td>\n",
              "      <td>13619575</td>\n",
              "      <td>13619575</td>\n",
              "      <td>13619505</td>\n",
              "      <td>13647309</td>\n",
              "      <td>13619575</td>\n",
              "      <td>13647309</td>\n",
              "      <td>24793</td>\n",
              "      <td>13497528.0</td>\n",
              "      <td>13497528</td>\n",
              "      <td>13619575</td>\n",
              "      <td>13619575</td>\n",
              "      <td>1808</td>\n",
              "      <td>13461183</td>\n",
              "      <td>13619575</td>\n",
              "      <td>13553718</td>\n",
              "      <td>13457941</td>\n",
              "    </tr>\n",
              "    <tr>\n",
              "      <th>unique</th>\n",
              "      <td>17</td>\n",
              "      <td>5</td>\n",
              "      <td>118</td>\n",
              "      <td>2</td>\n",
              "      <td>235</td>\n",
              "      <td>6756</td>\n",
              "      <td>507</td>\n",
              "      <td>223</td>\n",
              "      <td>13.0</td>\n",
              "      <td>5</td>\n",
              "      <td>2</td>\n",
              "      <td>2</td>\n",
              "      <td>2</td>\n",
              "      <td>162</td>\n",
              "      <td>2</td>\n",
              "      <td>52</td>\n",
              "      <td>3</td>\n",
              "    </tr>\n",
              "    <tr>\n",
              "      <th>top</th>\n",
              "      <td>2016-05-28</td>\n",
              "      <td>N</td>\n",
              "      <td>ES</td>\n",
              "      <td>V</td>\n",
              "      <td>23</td>\n",
              "      <td>2014-07-28</td>\n",
              "      <td>0</td>\n",
              "      <td>2015-12-24</td>\n",
              "      <td>1.0</td>\n",
              "      <td>I</td>\n",
              "      <td>S</td>\n",
              "      <td>N</td>\n",
              "      <td>N</td>\n",
              "      <td>KHE</td>\n",
              "      <td>N</td>\n",
              "      <td>MADRID</td>\n",
              "      <td>02 - PARTICULARES</td>\n",
              "    </tr>\n",
              "    <tr>\n",
              "      <th>freq</th>\n",
              "      <td>931453</td>\n",
              "      <td>13610977</td>\n",
              "      <td>13553710</td>\n",
              "      <td>7424252</td>\n",
              "      <td>542682</td>\n",
              "      <td>57389</td>\n",
              "      <td>134335</td>\n",
              "      <td>763</td>\n",
              "      <td>7277607.0</td>\n",
              "      <td>7304875</td>\n",
              "      <td>13553711</td>\n",
              "      <td>12974839</td>\n",
              "      <td>1791</td>\n",
              "      <td>4055270</td>\n",
              "      <td>13584813</td>\n",
              "      <td>4409600</td>\n",
              "      <td>7960220</td>\n",
              "    </tr>\n",
              "  </tbody>\n",
              "</table>\n",
              "</div>"
            ],
            "text/plain": [
              "        fecha_dato ind_empleado pais_residencia      sexo       age  \\\n",
              "count     13647309     13619575        13619575  13619505  13647309   \n",
              "unique          17            5             118         2       235   \n",
              "top     2016-05-28            N              ES         V        23   \n",
              "freq        931453     13610977        13553710   7424252    542682   \n",
              "\n",
              "        fecha_alta  antiguedad ult_fec_cli_1t  indrel_1mes tiprel_1mes  \\\n",
              "count     13619575    13647309          24793   13497528.0    13497528   \n",
              "unique        6756         507            223         13.0           5   \n",
              "top     2014-07-28           0     2015-12-24          1.0           I   \n",
              "freq         57389      134335            763    7277607.0     7304875   \n",
              "\n",
              "         indresi    indext conyuemp canal_entrada   indfall   nomprov  \\\n",
              "count   13619575  13619575     1808      13461183  13619575  13553718   \n",
              "unique         2         2        2           162         2        52   \n",
              "top            S         N        N           KHE         N    MADRID   \n",
              "freq    13553711  12974839     1791       4055270  13584813   4409600   \n",
              "\n",
              "                 segmento  \n",
              "count            13457941  \n",
              "unique                  3  \n",
              "top     02 - PARTICULARES  \n",
              "freq              7960220  "
            ]
          },
          "metadata": {
            "tags": []
          },
          "execution_count": 72
        }
      ]
    },
    {
      "cell_type": "markdown",
      "metadata": {
        "id": "rePPt9JhUvbd",
        "colab_type": "text"
      },
      "source": [
        "- count를 통해 결측치를 확인할 수 있음 \n",
        "- ult_fec_cli_1t(중요고객 만료날짜), conyuemp (은행 직원의 배우자여부) 결측치가 매우 많음"
      ]
    },
    {
      "cell_type": "code",
      "metadata": {
        "id": "tL5eofCuUvbh",
        "colab_type": "code",
        "outputId": "a196f601-e376-4ecc-d0c4-130ec33b596d",
        "colab": {}
      },
      "source": [
        "trn[cat_cols].describe().iloc[0] < trn.shape[0]"
      ],
      "execution_count": 0,
      "outputs": [
        {
          "output_type": "execute_result",
          "data": {
            "text/plain": [
              "fecha_dato         False\n",
              "ind_empleado        True\n",
              "pais_residencia     True\n",
              "sexo                True\n",
              "age                False\n",
              "fecha_alta          True\n",
              "antiguedad         False\n",
              "ult_fec_cli_1t      True\n",
              "indrel_1mes         True\n",
              "tiprel_1mes         True\n",
              "indresi             True\n",
              "indext              True\n",
              "conyuemp            True\n",
              "canal_entrada       True\n",
              "indfall             True\n",
              "nomprov             True\n",
              "segmento            True\n",
              "Name: count, dtype: bool"
            ]
          },
          "metadata": {
            "tags": []
          },
          "execution_count": 75
        }
      ]
    },
    {
      "cell_type": "markdown",
      "metadata": {
        "id": "K5RpldhlUvbx",
        "colab_type": "text"
      },
      "source": [
        "- fecha_dato는 일년 반, 즉 17개월의 데이터가 있음  \n",
        "- 23살 고객이 가장 많음\n",
        "- 고객들의 99.5% ES지역에 산다 (pais_residencia) + 거주지역이 일치함 (indresi)\n",
        "- 95%의 고객이 태어난 국적과 은행이 다름 (indext) \n",
        "- 99.7%의 고객이 살아있음 (indfall)\n",
        "- 99.9%의 고객이 N : not employee로 되어있음 (ind_empleado) \n"
      ]
    }
  ]
}
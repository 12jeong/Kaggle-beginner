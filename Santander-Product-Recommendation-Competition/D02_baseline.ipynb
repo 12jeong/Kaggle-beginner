{
  "nbformat": 4,
  "nbformat_minor": 0,
  "metadata": {
    "colab": {
      "name": "D02_baseline.ipynb",
      "provenance": [],
      "collapsed_sections": [],
      "machine_shape": "hm",
      "authorship_tag": "ABX9TyOFX/dWCgfk0kTJ0002KJ/w",
      "include_colab_link": true
    },
    "kernelspec": {
      "name": "python3",
      "display_name": "Python 3"
    }
  },
  "cells": [
    {
      "cell_type": "markdown",
      "metadata": {
        "id": "view-in-github",
        "colab_type": "text"
      },
      "source": [
        "<a href=\"https://colab.research.google.com/github/12jeong/Kaggle-beginner/blob/master/Santander-Product-Recommendation-Competition/D02_baseline.ipynb\" target=\"_parent\"><img src=\"https://colab.research.google.com/assets/colab-badge.svg\" alt=\"Open In Colab\"/></a>"
      ]
    },
    {
      "cell_type": "code",
      "metadata": {
        "id": "07ZlLtNj8-Cs",
        "colab_type": "code",
        "colab": {}
      },
      "source": [
        "from tensorflow.python.client import device_lib\n",
        "import platform\n",
        "from google.colab import drive\n",
        "drive.mount('/content/drive/')  "
      ],
      "execution_count": 0,
      "outputs": []
    },
    {
      "cell_type": "code",
      "metadata": {
        "id": "ZWG8gc_58_kM",
        "colab_type": "code",
        "colab": {}
      },
      "source": [
        "import os\n",
        "import pandas as pd\n",
        "import numpy as np\n",
        "import matplotlib\n",
        "import matplotlib.pyplot as plt\n",
        "# For Jupyter Notebook\n",
        "%matplotlib inline\n",
        "import seaborn as sns\n",
        "os.getcwd()\n",
        "os.chdir('/content/drive/My Drive/Colab Notebooks/Kaggle-beginner')"
      ],
      "execution_count": 0,
      "outputs": []
    },
    {
      "cell_type": "code",
      "metadata": {
        "id": "Ll6-ZWYB9ePZ",
        "colab_type": "code",
        "colab": {}
      },
      "source": [
        "import xgboost as xgb\n",
        "import pickle "
      ],
      "execution_count": 0,
      "outputs": []
    },
    {
      "cell_type": "code",
      "metadata": {
        "id": "BLDtwntv9Jqo",
        "colab_type": "code",
        "colab": {
          "base_uri": "https://localhost:8080/",
          "height": 53
        },
        "outputId": "14643b03-93d6-4dfb-dfd4-c12a8f5fd9bd"
      },
      "source": [
        "trn = pd.read_csv('train_ver2.csv')"
      ],
      "execution_count": 3,
      "outputs": [
        {
          "output_type": "stream",
          "text": [
            "/usr/local/lib/python3.6/dist-packages/IPython/core/interactiveshell.py:2718: DtypeWarning: Columns (5,8,11,15) have mixed types. Specify dtype option on import or set low_memory=False.\n",
            "  interactivity=interactivity, compiler=compiler, result=result)\n"
          ],
          "name": "stderr"
        }
      ]
    },
    {
      "cell_type": "code",
      "metadata": {
        "id": "q-OGliOB9yzm",
        "colab_type": "code",
        "colab": {
          "base_uri": "https://localhost:8080/",
          "height": 53
        },
        "outputId": "f1783f11-0507-42e0-d94b-34fa6512e310"
      },
      "source": [
        "tst = pd.read_csv('test_ver2.csv')"
      ],
      "execution_count": 4,
      "outputs": [
        {
          "output_type": "stream",
          "text": [
            "/usr/local/lib/python3.6/dist-packages/IPython/core/interactiveshell.py:2718: DtypeWarning: Columns (15) have mixed types. Specify dtype option on import or set low_memory=False.\n",
            "  interactivity=interactivity, compiler=compiler, result=result)\n"
          ],
          "name": "stderr"
        }
      ]
    },
    {
      "cell_type": "markdown",
      "metadata": {
        "id": "7TBa48ss9SRm",
        "colab_type": "text"
      },
      "source": [
        "### 1. 데이터전처리"
      ]
    },
    {
      "cell_type": "code",
      "metadata": {
        "id": "P3l7fOvj9KrY",
        "colab_type": "code",
        "colab": {}
      },
      "source": [
        "# 상품 변수\n",
        "prods = trn.columns[24:].tolist()\n",
        "\n",
        "# 상품 변수 결측값을 0으로 대체 (구매 하지 않았다고 가정)\n",
        "trn[prods] = trn[prods].fillna(0.0).astype(np.int8)\n",
        "\n",
        "# 노이즈제거 - 구매한 상품이 하나도 없는 고객의 경우\n",
        "no_product = trn[prods].sum(axis=1) == 0 # sum(axis=1) : 행단위 계산\n",
        "trn = trn[-no_product]\n",
        "\n",
        "# 훈련데이터, 테스트 데이터 통합 (왜?)\n",
        "# 테스트 데이터에 없는 훈련데이터 상품은 모두 0값으로 대체\n",
        "for col in trn.columns[24:] :\n",
        "    tst[col] = 0 \n",
        "df = pd.concat([trn,tst], axis=0)"
      ],
      "execution_count": 0,
      "outputs": []
    },
    {
      "cell_type": "code",
      "metadata": {
        "id": "l_4X0H3w-5aL",
        "colab_type": "code",
        "colab": {}
      },
      "source": [
        "# 학습에 사용할 변수 목록\n",
        "# variable_note.md 참고\n",
        "features = []\n",
        "\n",
        "# 범주형 변수\n",
        "categorical_cols = ['ind_empleado','pais_residencia','sexo','tiprel_1mes','indresi','indext','conyuemp','canal_entrada','indfall','tipodom','nomprov','segmento']\n",
        "features += categorical_cols\n",
        "for col in categorical_cols :\n",
        "    df[col],_ = df[col].factorize(na_sentinel=-99) # _ 는 unique 항 값을 무시하고 싶어서 사용하는 듯"
      ],
      "execution_count": 0,
      "outputs": []
    },
    {
      "cell_type": "code",
      "metadata": {
        "id": "gfK-hJa7_478",
        "colab_type": "code",
        "colab": {
          "base_uri": "https://localhost:8080/",
          "height": 125
        },
        "outputId": "ebd1db12-982b-42bb-8018-847b4bfa14bf"
      },
      "source": [
        "# 참고\n",
        "label, unique = pd.factorize(['a','b','c','d','a','d',np.NaN],na_sentinel=-99)\n",
        "print(\"\\n\\nNumeric Representation : \\n\", label) \n",
        "print(\"Unique Values : \\n\", unique) "
      ],
      "execution_count": 7,
      "outputs": [
        {
          "output_type": "stream",
          "text": [
            "\n",
            "\n",
            "Numeric Representation : \n",
            " [  0   1   2   3   0   3 -99]\n",
            "Unique Values : \n",
            " ['a' 'b' 'c' 'd']\n"
          ],
          "name": "stdout"
        }
      ]
    },
    {
      "cell_type": "code",
      "metadata": {
        "id": "VrT62kipDGm6",
        "colab_type": "code",
        "colab": {}
      },
      "source": [
        "# 수치형 변수\n",
        "numerical_cols = ['age','antiguedad','renta','ind_nuevo','indrel','indrel_1mes','ind_actividad_cliente']\n",
        "\n",
        "# 결측치 대체\n",
        "for col in numerical_cols:\n",
        "    df[col].fillna(-99,inplace=True)"
      ],
      "execution_count": 0,
      "outputs": []
    },
    {
      "cell_type": "code",
      "metadata": {
        "id": "pY-_9N_-E1iw",
        "colab_type": "code",
        "colab": {
          "base_uri": "https://localhost:8080/",
          "height": 89
        },
        "outputId": "af158a68-e95e-465c-acb6-4bef80d0e02a"
      },
      "source": [
        "# 수치형으로 바꿀 수 없는 특이값 찾기\n",
        "for col in numerical_cols:\n",
        "    col_unique = df[col].unique()\n",
        "    for i in range(len(col_unique)):\n",
        "        try: \n",
        "            x = float(col_unique[i])\n",
        "        except ValueError as e:\n",
        "            print(col,col_unique[i],e)"
      ],
      "execution_count": 9,
      "outputs": [
        {
          "output_type": "stream",
          "text": [
            "age  NA could not convert string to float: ' NA'\n",
            "antiguedad      NA could not convert string to float: '     NA'\n",
            "renta          NA could not convert string to float: '         NA'\n",
            "indrel_1mes P could not convert string to float: 'P'\n"
          ],
          "name": "stdout"
        }
      ]
    },
    {
      "cell_type": "code",
      "metadata": {
        "id": "bJ8VU88qAiaR",
        "colab_type": "code",
        "colab": {}
      },
      "source": [
        "# 특이값대체\n",
        "# 메모리 효율을 위해 정수형으로 변환\n",
        "\n",
        "df['age'].replace(' NA',-99,inplace=True) \n",
        "df['age'] = df['age'].astype(np.int8)\n",
        "\n",
        "df['antiguedad'].replace('     NA',-99,inplace=True)\n",
        "df['antiguedad'].replace('-999999',-99,inplace=True)\n",
        "df['antiguedad'] = df['antiguedad'].astype(np.int8)\n",
        "\n",
        "df['renta'].replace('         NA',-99,inplace=True)\n",
        "df['renta'].fillna(-99,inplace=True)\n",
        "df['renta'] = df['renta'].astype(float).astype(np.int8)\n",
        "\n",
        "df['indrel_1mes'].replace('P',5,inplace=True)\n",
        "df['indrel_1mes'] = df['indrel_1mes'].astype(float).astype(np.int8)\n",
        "\n",
        "features = features + numerical_cols"
      ],
      "execution_count": 0,
      "outputs": []
    },
    {
      "cell_type": "markdown",
      "metadata": {
        "id": "iC0g7jyiK_hY",
        "colab_type": "text"
      },
      "source": [
        "### 2. 피처 엔지니어링 (파생 변수 생성)"
      ]
    },
    {
      "cell_type": "markdown",
      "metadata": {
        "id": "yhHNq_AhNdz7",
        "colab_type": "text"
      },
      "source": [
        "- fecha_alta_month(첫 계약을 맺은 날짜), ult_fec_cli_1t(마지막으로 1등급이었던 날짜)에 대해 연,월 추출 변수 생성"
      ]
    },
    {
      "cell_type": "code",
      "metadata": {
        "id": "h6iy3cshK4IJ",
        "colab_type": "code",
        "colab": {}
      },
      "source": [
        "df['fecha_alta_month'] = df['fecha_alta'].map(lambda x: 0.0 if x.__class__ is float else float(x.split('-')[1])).astype(np.int8)  # object에서 float는 nan을 거르는 용도인듯?\n",
        "df['fecha_alta_year'] = df['fecha_alta'].map(lambda x: 0.0 if x.__class__ is float else float(x.split('-')[0])).astype(np.int8)                                                          "
      ],
      "execution_count": 0,
      "outputs": []
    },
    {
      "cell_type": "code",
      "metadata": {
        "id": "y7vU9vW-NIiX",
        "colab_type": "code",
        "colab": {}
      },
      "source": [
        "df['ult_fec_cli_1t_month'] = df['ult_fec_cli_1t'].map(lambda x: 0.0 if x.__class__ is float else float(x.split('-')[1])).astype(np.int8)  \n",
        "df['ult_fec_cli_1t_year'] = df['ult_fec_cli_1t'].map(lambda x: 0.0 if x.__class__ is float else float(x.split('-')[0])).astype(np.int8)                                                          "
      ],
      "execution_count": 0,
      "outputs": []
    },
    {
      "cell_type": "code",
      "metadata": {
        "id": "bqK47TlpMNCm",
        "colab_type": "code",
        "colab": {
          "base_uri": "https://localhost:8080/",
          "height": 35
        },
        "outputId": "91d1fd56-7849-43e9-b42b-ad513596054a"
      },
      "source": [
        "# 참고\n",
        "x=float(26)\n",
        "y='abc'\n",
        "z=np.nan\n",
        "print(x.__class__, y.__class__, z.__class__)"
      ],
      "execution_count": 13,
      "outputs": [
        {
          "output_type": "stream",
          "text": [
            "<class 'float'> <class 'str'> <class 'float'>\n"
          ],
          "name": "stdout"
        }
      ]
    },
    {
      "cell_type": "code",
      "metadata": {
        "id": "RHZkwZeOCJNw",
        "colab_type": "code",
        "colab": {}
      },
      "source": [
        "# 그 외 변수 결측값 대체\n",
        "df.fillna(-99,inplace=True)"
      ],
      "execution_count": 0,
      "outputs": []
    },
    {
      "cell_type": "code",
      "metadata": {
        "id": "kyI4WmpnOztG",
        "colab_type": "code",
        "colab": {
          "base_uri": "https://localhost:8080/",
          "height": 53
        },
        "outputId": "24a336f0-c545-4b3c-ae33-5a25c5c6709d"
      },
      "source": [
        "# 참고\n",
        "a = \" 2015-01-28 \"\n",
        "print('str:',a,'len:',len(a))\n",
        "print('str:',a.strip(),'len:',len(a.strip()))"
      ],
      "execution_count": 25,
      "outputs": [
        {
          "output_type": "stream",
          "text": [
            "str:  2015-01-28  len: 12\n",
            "str: 2015-01-28 len: 10\n"
          ],
          "name": "stdout"
        }
      ]
    },
    {
      "cell_type": "code",
      "metadata": {
        "id": "8DbR3lyzNcLI",
        "colab_type": "code",
        "colab": {}
      },
      "source": [
        "# lag-1(month) 상품 보유 생성\n",
        "def date_to_int(str_date):\n",
        "    Y,M,D = [int(a) for a in str_date.strip().split(\"-\")]\n",
        "    int_date = (int(Y)-2015)*12+int(M)\n",
        "    return int_date\n",
        "\n",
        "df['int_date'] = df['fecha_dato'].map(date_to_int).astype(np.int8)\n",
        "\n",
        "df_lag = df.copy()\n",
        "df_lag.columns = [col+'_prev' if col not in ['ncodpers','int_date'] else col for col in df.columns]\n",
        "df_lag['int_date'] +=1\n",
        "\n",
        "del trn,tst\n",
        "df_trn = df.merge(df_lag, on=['ncodpers','int_date'],how=\"left\")"
      ],
      "execution_count": 0,
      "outputs": []
    },
    {
      "cell_type": "code",
      "metadata": {
        "id": "6czeNMZLPyTK",
        "colab_type": "code",
        "colab": {}
      },
      "source": [
        "del df, df_lag"
      ],
      "execution_count": 0,
      "outputs": []
    },
    {
      "cell_type": "code",
      "metadata": {
        "id": "0KcpcdExSf3I",
        "colab_type": "code",
        "colab": {}
      },
      "source": [
        "\n",
        "for prod in prods:\n",
        "    prev = prod + '_prev'\n",
        "    df_trn[prev].fillna(0, inplace=True)\n",
        "\n",
        "features += [feature +'_prev' for feature in features]\n",
        "features += [prod + '_prev' for prod in prods]"
      ],
      "execution_count": 0,
      "outputs": []
    },
    {
      "cell_type": "code",
      "metadata": {
        "id": "OkpW6A7rSCWD",
        "colab_type": "code",
        "colab": {}
      },
      "source": [
        "print(features)"
      ],
      "execution_count": 0,
      "outputs": []
    },
    {
      "cell_type": "code",
      "metadata": {
        "id": "oOsDP4DIR9xv",
        "colab_type": "code",
        "colab": {}
      },
      "source": [
        "df_trn.to_csv('df_trn.csv',index=False)"
      ],
      "execution_count": 0,
      "outputs": []
    },
    {
      "cell_type": "code",
      "metadata": {
        "id": "qyJN93xATAAJ",
        "colab_type": "code",
        "colab": {}
      },
      "source": [
        "import pickle "
      ],
      "execution_count": 0,
      "outputs": []
    },
    {
      "cell_type": "code",
      "metadata": {
        "id": "1BmnsY2-YUkK",
        "colab_type": "code",
        "colab": {}
      },
      "source": [
        "filename = \"feature_list.pickle\"\n",
        "# save\n",
        "with open(filename, 'wb') as f:\n",
        "    pickle.dump(features, f)\n",
        "    pickle.dump(prods,f)\n",
        "    \n",
        "# load\n",
        "#with open('data.pickle', 'rb') as f:\n",
        "#    data = pickle.load(f)"
      ],
      "execution_count": 0,
      "outputs": []
    }
  ]
}
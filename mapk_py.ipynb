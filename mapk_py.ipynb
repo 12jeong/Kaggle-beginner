{
  "nbformat": 4,
  "nbformat_minor": 0,
  "metadata": {
    "colab": {
      "name": "mapk.py",
      "provenance": [],
      "private_outputs": true,
      "collapsed_sections": [],
      "authorship_tag": "ABX9TyOgfhK58+wgD/N41SYjcruP",
      "include_colab_link": true
    },
    "kernelspec": {
      "name": "python3",
      "display_name": "Python 3"
    }
  },
  "cells": [
    {
      "cell_type": "markdown",
      "metadata": {
        "id": "view-in-github",
        "colab_type": "text"
      },
      "source": [
        "<a href=\"https://colab.research.google.com/github/12jeong/Kaggle-beginner/blob/master/mapk_py.ipynb\" target=\"_parent\"><img src=\"https://colab.research.google.com/assets/colab-badge.svg\" alt=\"Open In Colab\"/></a>"
      ]
    },
    {
      "cell_type": "code",
      "metadata": {
        "id": "782QuEQIL3MJ",
        "colab_type": "code",
        "colab": {}
      },
      "source": [
        "import numpy as np"
      ],
      "execution_count": 0,
      "outputs": []
    },
    {
      "cell_type": "markdown",
      "metadata": {
        "id": "t2ZkFCcCL9Ju",
        "colab_type": "text"
      },
      "source": [
        ""
      ]
    },
    {
      "cell_type": "code",
      "metadata": {
        "id": "4Rxd0LUQL6LT",
        "colab_type": "code",
        "colab": {}
      },
      "source": [
        "# average precision \n",
        "def apk(actual, predicted, k=7, default=0.0):\n",
        "    # MAP@7, k=7\n",
        "    if len(predicted)>k:\n",
        "        predicted = predicted[:k]\n",
        "\n",
        "    score = 0.0\n",
        "    num_hits =0.0 \n",
        "\n",
        "    for i, p in enumerate(predicted):\n",
        "        if p in actual and p not in predicted[:i]: # 정답이 있고 중복이 아니면\n",
        "            num_hits += 1.0\n",
        "            score += num_hits / (i+1.0)\n",
        "    \n",
        "    if not actual:\n",
        "        return default\n",
        "\n",
        "    return score / min(len(actual),k)   "
      ],
      "execution_count": 0,
      "outputs": []
    },
    {
      "cell_type": "code",
      "metadata": {
        "id": "EREoj7osL76R",
        "colab_type": "code",
        "colab": {}
      },
      "source": [
        "def mapk(actual, predicted, k=7, default=0.0):\n",
        "    return np.mean([apk(a,p,k,default) for a,p in zip(actual,predicted)]) # 고객별 apk 평균"
      ],
      "execution_count": 0,
      "outputs": []
    },
    {
      "cell_type": "code",
      "metadata": {
        "id": "Yb2RkDOtL8gq",
        "colab_type": "code",
        "colab": {}
      },
      "source": [
        ""
      ],
      "execution_count": 0,
      "outputs": []
    }
  ]
}